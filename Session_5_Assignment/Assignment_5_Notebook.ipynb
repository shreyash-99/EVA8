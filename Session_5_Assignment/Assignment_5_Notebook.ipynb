{
  "nbformat": 4,
  "nbformat_minor": 0,
  "metadata": {
    "colab": {
      "provenance": []
    },
    "kernelspec": {
      "name": "python3",
      "display_name": "Python 3"
    },
    "language_info": {
      "name": "python"
    },
    "accelerator": "GPU",
    "gpuClass": "standard"
  },
  "cells": [
    {
      "cell_type": "code",
      "execution_count": null,
      "metadata": {
        "id": "trgkOkWw0Tjs"
      },
      "outputs": [],
      "source": [
        "from __future__ import print_function\n",
        "import numpy as np\n",
        "import torch\n",
        "import torch.nn as nn\n",
        "import torch.nn.functional as F\n",
        "import torch.optim as optim\n",
        "from tqdm import tqdm\n",
        "from torchvision import datasets, transforms\n",
        "import matplotlib.pyplot as plt"
      ]
    },
    {
      "cell_type": "code",
      "source": [
        "pwd"
      ],
      "metadata": {
        "id": "7vx0IkG70UOa",
        "colab": {
          "base_uri": "https://localhost:8080/",
          "height": 35
        },
        "outputId": "7a48a3ec-7bfe-4745-d0d6-18c16b371487"
      },
      "execution_count": 55,
      "outputs": [
        {
          "output_type": "execute_result",
          "data": {
            "text/plain": [
              "'/content/EVA8/Session_5_Assignment/EVA8/Session_5_Assignment'"
            ],
            "application/vnd.google.colaboratory.intrinsic+json": {
              "type": "string"
            }
          },
          "metadata": {},
          "execution_count": 55
        }
      ]
    },
    {
      "cell_type": "code",
      "source": [
        "%cd ..\n"
      ],
      "metadata": {
        "colab": {
          "base_uri": "https://localhost:8080/"
        },
        "id": "7hBt6vSuYw6v",
        "outputId": "822ee928-788c-49d2-b5ef-2b05f012b335"
      },
      "execution_count": 57,
      "outputs": [
        {
          "output_type": "stream",
          "name": "stdout",
          "text": [
            "/content/EVA8/Session_5_Assignment\n"
          ]
        }
      ]
    },
    {
      "cell_type": "code",
      "source": [
        "!git clone https://github.com/shreyash-99/EVA8.git"
      ],
      "metadata": {
        "colab": {
          "base_uri": "https://localhost:8080/"
        },
        "id": "brOBQish6P2T",
        "outputId": "b1148b87-756d-43c0-abe6-a549e77704ac"
      },
      "execution_count": 53,
      "outputs": [
        {
          "output_type": "stream",
          "name": "stdout",
          "text": [
            "Cloning into 'EVA8'...\n",
            "remote: Enumerating objects: 161, done.\u001b[K\n",
            "remote: Counting objects:   0% (1/161)\u001b[K\rremote: Counting objects:   1% (2/161)\u001b[K\rremote: Counting objects:   2% (4/161)\u001b[K\rremote: Counting objects:   3% (5/161)\u001b[K\rremote: Counting objects:   4% (7/161)\u001b[K\rremote: Counting objects:   5% (9/161)\u001b[K\rremote: Counting objects:   6% (10/161)\u001b[K\rremote: Counting objects:   7% (12/161)\u001b[K\rremote: Counting objects:   8% (13/161)\u001b[K\rremote: Counting objects:   9% (15/161)\u001b[K\rremote: Counting objects:  10% (17/161)\u001b[K\rremote: Counting objects:  11% (18/161)\u001b[K\rremote: Counting objects:  12% (20/161)\u001b[K\rremote: Counting objects:  13% (21/161)\u001b[K\rremote: Counting objects:  14% (23/161)\u001b[K\rremote: Counting objects:  15% (25/161)\u001b[K\rremote: Counting objects:  16% (26/161)\u001b[K\rremote: Counting objects:  17% (28/161)\u001b[K\rremote: Counting objects:  18% (29/161)\u001b[K\rremote: Counting objects:  19% (31/161)\u001b[K\rremote: Counting objects:  20% (33/161)\u001b[K\rremote: Counting objects:  21% (34/161)\u001b[K\rremote: Counting objects:  22% (36/161)\u001b[K\rremote: Counting objects:  23% (38/161)\u001b[K\rremote: Counting objects:  24% (39/161)\u001b[K\rremote: Counting objects:  25% (41/161)\u001b[K\rremote: Counting objects:  26% (42/161)\u001b[K\rremote: Counting objects:  27% (44/161)\u001b[K\rremote: Counting objects:  28% (46/161)\u001b[K\rremote: Counting objects:  29% (47/161)\u001b[K\rremote: Counting objects:  30% (49/161)\u001b[K\rremote: Counting objects:  31% (50/161)\u001b[K\rremote: Counting objects:  32% (52/161)\u001b[K\rremote: Counting objects:  33% (54/161)\u001b[K\rremote: Counting objects:  34% (55/161)\u001b[K\rremote: Counting objects:  35% (57/161)\u001b[K\rremote: Counting objects:  36% (58/161)\u001b[K\rremote: Counting objects:  37% (60/161)\u001b[K\rremote: Counting objects:  38% (62/161)\u001b[K\rremote: Counting objects:  39% (63/161)\u001b[K\rremote: Counting objects:  40% (65/161)\u001b[K\rremote: Counting objects:  41% (67/161)\u001b[K\rremote: Counting objects:  42% (68/161)\u001b[K\rremote: Counting objects:  43% (70/161)\u001b[K\rremote: Counting objects:  44% (71/161)\u001b[K\rremote: Counting objects:  45% (73/161)\u001b[K\rremote: Counting objects:  46% (75/161)\u001b[K\rremote: Counting objects:  47% (76/161)\u001b[K\rremote: Counting objects:  48% (78/161)\u001b[K\rremote: Counting objects:  49% (79/161)\u001b[K\rremote: Counting objects:  50% (81/161)\u001b[K\rremote: Counting objects:  51% (83/161)\u001b[K\rremote: Counting objects:  52% (84/161)\u001b[K\rremote: Counting objects:  53% (86/161)\u001b[K\rremote: Counting objects:  54% (87/161)\u001b[K\rremote: Counting objects:  55% (89/161)\u001b[K\rremote: Counting objects:  56% (91/161)\u001b[K\rremote: Counting objects:  57% (92/161)\u001b[K\rremote: Counting objects:  58% (94/161)\u001b[K\rremote: Counting objects:  59% (95/161)\u001b[K\rremote: Counting objects:  60% (97/161)\u001b[K\rremote: Counting objects:  61% (99/161)\u001b[K\rremote: Counting objects:  62% (100/161)\u001b[K\rremote: Counting objects:  63% (102/161)\u001b[K\rremote: Counting objects:  64% (104/161)\u001b[K\rremote: Counting objects:  65% (105/161)\u001b[K\rremote: Counting objects:  66% (107/161)\u001b[K\rremote: Counting objects:  67% (108/161)\u001b[K\rremote: Counting objects:  68% (110/161)\u001b[K\rremote: Counting objects:  69% (112/161)\u001b[K\rremote: Counting objects:  70% (113/161)\u001b[K\rremote: Counting objects:  71% (115/161)\u001b[K\rremote: Counting objects:  72% (116/161)\u001b[K\rremote: Counting objects:  73% (118/161)\u001b[K\rremote: Counting objects:  74% (120/161)\u001b[K\rremote: Counting objects:  75% (121/161)\u001b[K\rremote: Counting objects:  76% (123/161)\u001b[K\rremote: Counting objects:  77% (124/161)\u001b[K\rremote: Counting objects:  78% (126/161)\u001b[K\rremote: Counting objects:  79% (128/161)\u001b[K\rremote: Counting objects:  80% (129/161)\u001b[K\rremote: Counting objects:  81% (131/161)\u001b[K\rremote: Counting objects:  82% (133/161)\u001b[K\rremote: Counting objects:  83% (134/161)\u001b[K\rremote: Counting objects:  84% (136/161)\u001b[K\rremote: Counting objects:  85% (137/161)\u001b[K\rremote: Counting objects:  86% (139/161)\u001b[K\rremote: Counting objects:  87% (141/161)\u001b[K\rremote: Counting objects:  88% (142/161)\u001b[K\rremote: Counting objects:  89% (144/161)\u001b[K\rremote: Counting objects:  90% (145/161)\u001b[K\rremote: Counting objects:  91% (147/161)\u001b[K\rremote: Counting objects:  92% (149/161)\u001b[K\rremote: Counting objects:  93% (150/161)\u001b[K\rremote: Counting objects:  94% (152/161)\u001b[K\rremote: Counting objects:  95% (153/161)\u001b[K\rremote: Counting objects:  96% (155/161)\u001b[K\rremote: Counting objects:  97% (157/161)\u001b[K\rremote: Counting objects:  98% (158/161)\u001b[K\rremote: Counting objects:  99% (160/161)\u001b[K\rremote: Counting objects: 100% (161/161)\u001b[K\rremote: Counting objects: 100% (161/161), done.\u001b[K\n",
            "remote: Compressing objects: 100% (130/130), done.\u001b[K\n",
            "remote: Total 161 (delta 70), reused 58 (delta 22), pack-reused 0\u001b[K\n",
            "Receiving objects: 100% (161/161), 2.48 MiB | 16.73 MiB/s, done.\n",
            "Resolving deltas: 100% (70/70), done.\n"
          ]
        }
      ]
    },
    {
      "cell_type": "code",
      "source": [
        "%cd EVA8/Session_5_Assignment"
      ],
      "metadata": {
        "colab": {
          "base_uri": "https://localhost:8080/"
        },
        "id": "ms19vUws8_t-",
        "outputId": "f1c7b2e7-5858-45b9-86c1-c1275c931c0b"
      },
      "execution_count": 54,
      "outputs": [
        {
          "output_type": "stream",
          "name": "stdout",
          "text": [
            "/content/EVA8/Session_5_Assignment/EVA8/Session_5_Assignment\n"
          ]
        }
      ]
    },
    {
      "cell_type": "code",
      "source": [
        "from model import get_model"
      ],
      "metadata": {
        "id": "c8JQjkYt9DWU"
      },
      "execution_count": 58,
      "outputs": []
    },
    {
      "cell_type": "code",
      "source": [
        "train_transforms = transforms.Compose([transforms.RandomRotation((-7.0,7.0), fill = (1,)) ,  \n",
        "                                      transforms.ToTensor(),\n",
        "                                       transforms.Normalize((0.1307,), (0.3081,))\n",
        "                                       ])\n",
        "test_transforms = transforms.Compose([transforms.ToTensor(),\n",
        "                                      transforms.Normalize((0.1307,), (0.3081, ))])\n",
        "train = datasets.MNIST('./data', train = True, download = True, transform = train_transforms)\n",
        "test = datasets.MNIST('./data', train = False, download = True, transform = test_transforms)"
      ],
      "metadata": {
        "id": "AL7o5E7s9N32"
      },
      "execution_count": 59,
      "outputs": []
    },
    {
      "cell_type": "code",
      "source": [
        "SEED = 1\n",
        "\n",
        "cuda = torch.cuda.is_available()\n",
        "print(\"CUDA available\" , cuda)\n",
        "\n",
        "#for Reproducibilty\n",
        "torch.manual_seed(SEED)\n",
        "\n",
        "if cuda:\n",
        "  torch.cuda.manual_seed(SEED)\n",
        "\n",
        "# setting the dataloader arguments for both test and train data\n",
        "dataloader_args = dict(shuffle = True, batch_size = 128, num_workers = 4, pin_memory = True) if cuda else dict(shuffle = True, batch_size = 64)\n",
        "\n",
        "train_loader = torch.utils.data.DataLoader(train , **dataloader_args)\n",
        "test_loader = torch.utils.data.DataLoader(test, **dataloader_args)"
      ],
      "metadata": {
        "colab": {
          "base_uri": "https://localhost:8080/"
        },
        "id": "OrrqYRrZ9Rxj",
        "outputId": "5ed53a31-08f4-4b98-c84c-1ceb6775e01f"
      },
      "execution_count": 60,
      "outputs": [
        {
          "output_type": "stream",
          "name": "stdout",
          "text": [
            "CUDA available True\n"
          ]
        }
      ]
    },
    {
      "cell_type": "code",
      "source": [
        "!ls"
      ],
      "metadata": {
        "colab": {
          "base_uri": "https://localhost:8080/"
        },
        "id": "6YIFC-0zYZsX",
        "outputId": "94e83b43-2d98-444f-f370-bdee10b50912"
      },
      "execution_count": 61,
      "outputs": [
        {
          "output_type": "stream",
          "name": "stdout",
          "text": [
            "Assignment-5_sample.ipynb  data  EVA8  model.py  __pycache__\n"
          ]
        }
      ]
    },
    {
      "cell_type": "code",
      "source": [
        "!pip install torchsummary\n",
        "from torchsummary import summary\n",
        "use_cuda = torch.cuda.is_available()\n",
        "device = torch.device(\"cuda\" if use_cuda else \"cpu\")\n",
        "print(device)\n",
        "model_GN = get_model(\"GN\").to(device)\n",
        "model_LN = get_model(\"LN\").to(device)\n",
        "model_BN = get_model(\"BN\").to(device)"
      ],
      "metadata": {
        "colab": {
          "base_uri": "https://localhost:8080/"
        },
        "id": "MuYidSIm9TY7",
        "outputId": "331a1289-12a3-4334-a402-7fa353151e97"
      },
      "execution_count": 62,
      "outputs": [
        {
          "output_type": "stream",
          "name": "stdout",
          "text": [
            "Looking in indexes: https://pypi.org/simple, https://us-python.pkg.dev/colab-wheels/public/simple/\n",
            "Requirement already satisfied: torchsummary in /usr/local/lib/python3.8/dist-packages (1.5.1)\n",
            "cuda\n"
          ]
        }
      ]
    },
    {
      "cell_type": "code",
      "source": [
        "summary(model_GN, input_size = (1,28,28))"
      ],
      "metadata": {
        "id": "l8f0_Aks9VqO",
        "colab": {
          "base_uri": "https://localhost:8080/"
        },
        "outputId": "6a814fb9-9d2b-46d8-c8bf-bdfcd3ef307d"
      },
      "execution_count": 63,
      "outputs": [
        {
          "output_type": "stream",
          "name": "stdout",
          "text": [
            "----------------------------------------------------------------\n",
            "        Layer (type)               Output Shape         Param #\n",
            "================================================================\n",
            "            Conv2d-1            [-1, 8, 26, 26]              72\n",
            "       BatchNorm2d-2            [-1, 8, 26, 26]              16\n",
            "              ReLU-3            [-1, 8, 26, 26]               0\n",
            "           Dropout-4            [-1, 8, 26, 26]               0\n",
            "            Conv2d-5           [-1, 16, 26, 26]           1,152\n",
            "       BatchNorm2d-6           [-1, 16, 26, 26]              32\n",
            "              ReLU-7           [-1, 16, 26, 26]               0\n",
            "           Dropout-8           [-1, 16, 26, 26]               0\n",
            "            Conv2d-9            [-1, 8, 26, 26]             128\n",
            "        MaxPool2d-10            [-1, 8, 13, 13]               0\n",
            "           Conv2d-11           [-1, 16, 11, 11]           1,152\n",
            "      BatchNorm2d-12           [-1, 16, 11, 11]              32\n",
            "             ReLU-13           [-1, 16, 11, 11]               0\n",
            "          Dropout-14           [-1, 16, 11, 11]               0\n",
            "           Conv2d-15           [-1, 16, 11, 11]           2,304\n",
            "      BatchNorm2d-16           [-1, 16, 11, 11]              32\n",
            "             ReLU-17           [-1, 16, 11, 11]               0\n",
            "          Dropout-18           [-1, 16, 11, 11]               0\n",
            "           Conv2d-19            [-1, 8, 11, 11]             128\n",
            "           Conv2d-20              [-1, 8, 9, 9]             576\n",
            "      BatchNorm2d-21              [-1, 8, 9, 9]              16\n",
            "             ReLU-22              [-1, 8, 9, 9]               0\n",
            "          Dropout-23              [-1, 8, 9, 9]               0\n",
            "           Conv2d-24             [-1, 16, 7, 7]           1,152\n",
            "      BatchNorm2d-25             [-1, 16, 7, 7]              32\n",
            "             ReLU-26             [-1, 16, 7, 7]               0\n",
            "          Dropout-27             [-1, 16, 7, 7]               0\n",
            "           Conv2d-28             [-1, 16, 5, 5]           2,304\n",
            "      BatchNorm2d-29             [-1, 16, 5, 5]              32\n",
            "             ReLU-30             [-1, 16, 5, 5]               0\n",
            "          Dropout-31             [-1, 16, 5, 5]               0\n",
            "        AvgPool2d-32             [-1, 16, 1, 1]               0\n",
            "           Conv2d-33             [-1, 10, 1, 1]             160\n",
            "================================================================\n",
            "Total params: 9,320\n",
            "Trainable params: 9,320\n",
            "Non-trainable params: 0\n",
            "----------------------------------------------------------------\n",
            "Input size (MB): 0.00\n",
            "Forward/backward pass size (MB): 0.73\n",
            "Params size (MB): 0.04\n",
            "Estimated Total Size (MB): 0.77\n",
            "----------------------------------------------------------------\n"
          ]
        }
      ]
    },
    {
      "cell_type": "code",
      "source": [
        "summary(model_LN, input_size = (1,28,28))"
      ],
      "metadata": {
        "id": "UauvbkuSNoMp",
        "colab": {
          "base_uri": "https://localhost:8080/"
        },
        "outputId": "f18cfa1f-d97c-4b05-a20c-afabf37fa329"
      },
      "execution_count": 64,
      "outputs": [
        {
          "output_type": "stream",
          "name": "stdout",
          "text": [
            "----------------------------------------------------------------\n",
            "        Layer (type)               Output Shape         Param #\n",
            "================================================================\n",
            "            Conv2d-1            [-1, 8, 26, 26]              72\n",
            "              ReLU-2            [-1, 8, 26, 26]               0\n",
            "         LayerNorm-3            [-1, 8, 26, 26]          10,816\n",
            "           Dropout-4            [-1, 8, 26, 26]               0\n",
            "            Conv2d-5           [-1, 16, 26, 26]           1,152\n",
            "              ReLU-6           [-1, 16, 26, 26]               0\n",
            "         LayerNorm-7           [-1, 16, 26, 26]          21,632\n",
            "           Dropout-8           [-1, 16, 26, 26]               0\n",
            "            Conv2d-9            [-1, 8, 26, 26]             128\n",
            "        MaxPool2d-10            [-1, 8, 13, 13]               0\n",
            "           Conv2d-11           [-1, 16, 11, 11]           1,152\n",
            "             ReLU-12           [-1, 16, 11, 11]               0\n",
            "        LayerNorm-13           [-1, 16, 11, 11]           3,872\n",
            "          Dropout-14           [-1, 16, 11, 11]               0\n",
            "           Conv2d-15           [-1, 16, 11, 11]           2,304\n",
            "             ReLU-16           [-1, 16, 11, 11]               0\n",
            "        LayerNorm-17           [-1, 16, 11, 11]           3,872\n",
            "          Dropout-18           [-1, 16, 11, 11]               0\n",
            "           Conv2d-19            [-1, 8, 11, 11]             128\n",
            "           Conv2d-20              [-1, 8, 9, 9]             576\n",
            "             ReLU-21              [-1, 8, 9, 9]               0\n",
            "        LayerNorm-22              [-1, 8, 9, 9]           1,296\n",
            "          Dropout-23              [-1, 8, 9, 9]               0\n",
            "           Conv2d-24             [-1, 16, 7, 7]           1,152\n",
            "             ReLU-25             [-1, 16, 7, 7]               0\n",
            "        LayerNorm-26             [-1, 16, 7, 7]           1,568\n",
            "          Dropout-27             [-1, 16, 7, 7]               0\n",
            "           Conv2d-28             [-1, 16, 5, 5]           2,304\n",
            "             ReLU-29             [-1, 16, 5, 5]               0\n",
            "        LayerNorm-30             [-1, 16, 5, 5]             800\n",
            "          Dropout-31             [-1, 16, 5, 5]               0\n",
            "        AvgPool2d-32             [-1, 16, 1, 1]               0\n",
            "           Conv2d-33             [-1, 10, 1, 1]             160\n",
            "================================================================\n",
            "Total params: 52,984\n",
            "Trainable params: 52,984\n",
            "Non-trainable params: 0\n",
            "----------------------------------------------------------------\n",
            "Input size (MB): 0.00\n",
            "Forward/backward pass size (MB): 0.73\n",
            "Params size (MB): 0.20\n",
            "Estimated Total Size (MB): 0.93\n",
            "----------------------------------------------------------------\n"
          ]
        }
      ]
    },
    {
      "cell_type": "code",
      "source": [
        "summary(model_BN, input_size = (1,28,28))"
      ],
      "metadata": {
        "colab": {
          "base_uri": "https://localhost:8080/"
        },
        "id": "Q95QaUa244P5",
        "outputId": "91f0d5df-a0b1-4274-d1eb-af2f8dc074e5"
      },
      "execution_count": 65,
      "outputs": [
        {
          "output_type": "stream",
          "name": "stdout",
          "text": [
            "----------------------------------------------------------------\n",
            "        Layer (type)               Output Shape         Param #\n",
            "================================================================\n",
            "            Conv2d-1            [-1, 8, 26, 26]              72\n",
            "       BatchNorm2d-2            [-1, 8, 26, 26]              16\n",
            "              ReLU-3            [-1, 8, 26, 26]               0\n",
            "           Dropout-4            [-1, 8, 26, 26]               0\n",
            "            Conv2d-5           [-1, 16, 26, 26]           1,152\n",
            "       BatchNorm2d-6           [-1, 16, 26, 26]              32\n",
            "              ReLU-7           [-1, 16, 26, 26]               0\n",
            "           Dropout-8           [-1, 16, 26, 26]               0\n",
            "            Conv2d-9            [-1, 8, 26, 26]             128\n",
            "        MaxPool2d-10            [-1, 8, 13, 13]               0\n",
            "           Conv2d-11           [-1, 16, 11, 11]           1,152\n",
            "      BatchNorm2d-12           [-1, 16, 11, 11]              32\n",
            "             ReLU-13           [-1, 16, 11, 11]               0\n",
            "          Dropout-14           [-1, 16, 11, 11]               0\n",
            "           Conv2d-15           [-1, 16, 11, 11]           2,304\n",
            "      BatchNorm2d-16           [-1, 16, 11, 11]              32\n",
            "             ReLU-17           [-1, 16, 11, 11]               0\n",
            "          Dropout-18           [-1, 16, 11, 11]               0\n",
            "           Conv2d-19            [-1, 8, 11, 11]             128\n",
            "           Conv2d-20              [-1, 8, 9, 9]             576\n",
            "      BatchNorm2d-21              [-1, 8, 9, 9]              16\n",
            "             ReLU-22              [-1, 8, 9, 9]               0\n",
            "          Dropout-23              [-1, 8, 9, 9]               0\n",
            "           Conv2d-24             [-1, 16, 7, 7]           1,152\n",
            "      BatchNorm2d-25             [-1, 16, 7, 7]              32\n",
            "             ReLU-26             [-1, 16, 7, 7]               0\n",
            "          Dropout-27             [-1, 16, 7, 7]               0\n",
            "           Conv2d-28             [-1, 16, 5, 5]           2,304\n",
            "      BatchNorm2d-29             [-1, 16, 5, 5]              32\n",
            "             ReLU-30             [-1, 16, 5, 5]               0\n",
            "          Dropout-31             [-1, 16, 5, 5]               0\n",
            "        AvgPool2d-32             [-1, 16, 1, 1]               0\n",
            "           Conv2d-33             [-1, 10, 1, 1]             160\n",
            "================================================================\n",
            "Total params: 9,320\n",
            "Trainable params: 9,320\n",
            "Non-trainable params: 0\n",
            "----------------------------------------------------------------\n",
            "Input size (MB): 0.00\n",
            "Forward/backward pass size (MB): 0.73\n",
            "Params size (MB): 0.04\n",
            "Estimated Total Size (MB): 0.77\n",
            "----------------------------------------------------------------\n"
          ]
        }
      ]
    },
    {
      "cell_type": "code",
      "source": [
        "from tqdm import tqdm\n",
        "\n",
        "\n",
        "def train(model, device, train_loader, optimiser, epoch, L1_regularisation = \"false\"):\n",
        "\n",
        "  train_losses = []\n",
        "  train_acc = []\n",
        "  model.train()\n",
        "  pbar = tqdm(train_loader)\n",
        "  correct = 0\n",
        "  processed = 0\n",
        "  for batch_idx, (data, target) in enumerate(pbar):\n",
        "    #get samples\n",
        "    data, target = data.to(device), target.to(device)\n",
        "\n",
        "    #init\n",
        "    optimiser.zero_grad()\n",
        "\n",
        "    #prediction\n",
        "    y_pred = model(data)\n",
        "\n",
        "    #calculate loss\n",
        "    loss = F.nll_loss(y_pred, target)\n",
        "    if L1_regularisation.lower() == \"true\":\n",
        "      l1 = 0\n",
        "      for p in model.parameters():\n",
        "        l1 = l1 + p.abs().sum()\n",
        "      lambda_l1 = loss / (l1 * 10)         # keeping lambda for 10 % loss in weights\n",
        "      loss = loss + lambda_l1 * l1\n",
        "\n",
        "    train_losses.append(loss)\n",
        "\n",
        "    #Backpropagation\n",
        "    loss.backward()\n",
        "    optimiser.step()\n",
        "\n",
        "    # update pbar - tqdm\n",
        "\n",
        "    pred = y_pred.argmax(dim = 1, keepdim = True) # gets the index of the max log-probabilirty\n",
        "    correct += pred.eq(target.view_as(pred)).sum().item()\n",
        "    processed += len(data)\n",
        "\n",
        "    pbar.set_description(desc= f'Loss={loss.item()} Batch_id={batch_idx} Accuracy={100*correct/processed:0.2f}')\n",
        "    train_acc.append(100*correct/processed)\n",
        "  return train_losses, train_acc\n",
        "\n",
        "def test(model, device, test_loader):\n",
        "  test_losses = []\n",
        "  test_acc = []\n",
        "  model.eval()\n",
        "  test_loss = 0\n",
        "  correct = 0\n",
        "  with torch.no_grad():\n",
        "    for data, target in test_loader:\n",
        "      data, target = data.to(device), target.to(device)\n",
        "      output = model(data)\n",
        "      test_loss += F.nll_loss(output, target, reduction='sum').item()  # sum up batch loss\n",
        "      pred = output.argmax(dim=1, keepdim=True)  # get the index of the max log-probability\n",
        "      correct += pred.eq(target.view_as(pred)).sum().item()\n",
        "\n",
        "  test_loss /= len(test_loader.dataset)\n",
        "  test_losses.append(test_loss)\n",
        "\n",
        "  print('\\nTest set: Average loss: {:.4f}, Accuracy: {}/{} ({:.2f}%)\\n'.format(\n",
        "    test_loss, correct, len(test_loader.dataset),\n",
        "    100. * correct / len(test_loader.dataset)))\n",
        "  \n",
        "  test_acc.append(100. * correct / len(test_loader.dataset))\n",
        "  return test_losses, test_acc\n",
        "\n",
        "\n",
        "def plot_missclassification(model,test_loader):\n",
        "  model.eval()\n",
        "  misclassified_images = []    \n",
        "  with torch.no_grad():\n",
        "    for data, target in test_loader:\n",
        "      data, target = data.to(device), target.to(device)\n",
        "      output = model(data)\n",
        "      _, pred = torch.max(output, 1)\n",
        "      for i in range(len(pred)):\n",
        "        if pred[i] != target[i]:\n",
        "          misclassified_images.append({'image': data[i], 'predicted_class': pred[i], 'correct_class': target[i]})\n",
        "  return misclassified_images"
      ],
      "metadata": {
        "id": "ZOqNgxB-46Tb"
      },
      "execution_count": 84,
      "outputs": []
    },
    {
      "cell_type": "code",
      "source": [
        "from torch.optim.lr_scheduler import StepLR\n",
        "\n",
        "model =  model_GN.to(device)\n",
        "optimizer = optim.SGD(model.parameters(), lr=0.03, momentum=0.9)\n",
        "scheduler = StepLR(optimizer, step_size=6, gamma=0.1)\n",
        "GN_test_losses = []\n",
        "GN_test_accuracies = []\n",
        "\n",
        "EPOCHS = 20\n",
        "for epoch in range(EPOCHS):\n",
        "  print(\"EPOCH:\", epoch, \"Learning Rate: \", scheduler.get_last_lr())\n",
        "  GN_train_loss, GN_train_acc = train(model, device, train_loader, optimizer, epoch)\n",
        "  scheduler.step()\n",
        "  GN_test_loss, GN_test_acc = test(model, device, test_loader)\n",
        "  GN_test_losses.append(GN_test_loss[0])\n",
        "  GN_test_accuracies.append(GN_test_acc[0])"
      ],
      "metadata": {
        "colab": {
          "base_uri": "https://localhost:8080/"
        },
        "id": "-tM6jsLVuLei",
        "outputId": "7ed377a9-8b40-4c76-a142-be94faf72c8a"
      },
      "execution_count": 85,
      "outputs": [
        {
          "output_type": "stream",
          "name": "stdout",
          "text": [
            "EPOCH: 0 Learning Rate:  [0.03]\n"
          ]
        },
        {
          "output_type": "stream",
          "name": "stderr",
          "text": [
            "\r  0%|          | 0/469 [00:00<?, ?it/s]/usr/local/lib/python3.8/dist-packages/torch/utils/data/dataloader.py:554: UserWarning: This DataLoader will create 4 worker processes in total. Our suggested max number of worker in current system is 2, which is smaller than what this DataLoader is going to create. Please be aware that excessive worker creation might get DataLoader running slow or even freeze, lower the worker number to avoid potential slowness/freeze if necessary.\n",
            "  warnings.warn(_create_warning_msg(\n",
            "Loss=0.0372132770717144 Batch_id=468 Accuracy=98.87: 100%|██████████| 469/469 [00:22<00:00, 20.75it/s]\n"
          ]
        },
        {
          "output_type": "stream",
          "name": "stdout",
          "text": [
            "\n",
            "Test set: Average loss: 0.0254, Accuracy: 9924/10000 (99.24%)\n",
            "\n",
            "EPOCH: 1 Learning Rate:  [0.03]\n"
          ]
        },
        {
          "output_type": "stream",
          "name": "stderr",
          "text": [
            "Loss=0.0818607434630394 Batch_id=468 Accuracy=98.92: 100%|██████████| 469/469 [00:21<00:00, 21.51it/s]\n"
          ]
        },
        {
          "output_type": "stream",
          "name": "stdout",
          "text": [
            "\n",
            "Test set: Average loss: 0.0223, Accuracy: 9934/10000 (99.34%)\n",
            "\n",
            "EPOCH: 2 Learning Rate:  [0.03]\n"
          ]
        },
        {
          "output_type": "stream",
          "name": "stderr",
          "text": [
            "Loss=0.0329187847673893 Batch_id=468 Accuracy=99.00: 100%|██████████| 469/469 [00:21<00:00, 22.05it/s]\n"
          ]
        },
        {
          "output_type": "stream",
          "name": "stdout",
          "text": [
            "\n",
            "Test set: Average loss: 0.0198, Accuracy: 9940/10000 (99.40%)\n",
            "\n",
            "EPOCH: 3 Learning Rate:  [0.03]\n"
          ]
        },
        {
          "output_type": "stream",
          "name": "stderr",
          "text": [
            "Loss=0.05594624578952789 Batch_id=468 Accuracy=98.96: 100%|██████████| 469/469 [00:21<00:00, 21.42it/s]\n"
          ]
        },
        {
          "output_type": "stream",
          "name": "stdout",
          "text": [
            "\n",
            "Test set: Average loss: 0.0291, Accuracy: 9910/10000 (99.10%)\n",
            "\n",
            "EPOCH: 4 Learning Rate:  [0.03]\n"
          ]
        },
        {
          "output_type": "stream",
          "name": "stderr",
          "text": [
            "Loss=0.1392487734556198 Batch_id=468 Accuracy=99.00: 100%|██████████| 469/469 [00:22<00:00, 20.62it/s]\n"
          ]
        },
        {
          "output_type": "stream",
          "name": "stdout",
          "text": [
            "\n",
            "Test set: Average loss: 0.0223, Accuracy: 9929/10000 (99.29%)\n",
            "\n",
            "EPOCH: 5 Learning Rate:  [0.03]\n"
          ]
        },
        {
          "output_type": "stream",
          "name": "stderr",
          "text": [
            "Loss=0.022972991690039635 Batch_id=468 Accuracy=98.99: 100%|██████████| 469/469 [00:22<00:00, 20.68it/s]\n"
          ]
        },
        {
          "output_type": "stream",
          "name": "stdout",
          "text": [
            "\n",
            "Test set: Average loss: 0.0235, Accuracy: 9923/10000 (99.23%)\n",
            "\n",
            "EPOCH: 6 Learning Rate:  [0.003]\n"
          ]
        },
        {
          "output_type": "stream",
          "name": "stderr",
          "text": [
            "Loss=0.006387756671756506 Batch_id=468 Accuracy=99.13: 100%|██████████| 469/469 [00:22<00:00, 20.83it/s]\n"
          ]
        },
        {
          "output_type": "stream",
          "name": "stdout",
          "text": [
            "\n",
            "Test set: Average loss: 0.0199, Accuracy: 9938/10000 (99.38%)\n",
            "\n",
            "EPOCH: 7 Learning Rate:  [0.003]\n"
          ]
        },
        {
          "output_type": "stream",
          "name": "stderr",
          "text": [
            "Loss=0.04874219372868538 Batch_id=468 Accuracy=99.19: 100%|██████████| 469/469 [00:21<00:00, 21.60it/s]\n"
          ]
        },
        {
          "output_type": "stream",
          "name": "stdout",
          "text": [
            "\n",
            "Test set: Average loss: 0.0196, Accuracy: 9941/10000 (99.41%)\n",
            "\n",
            "EPOCH: 8 Learning Rate:  [0.003]\n"
          ]
        },
        {
          "output_type": "stream",
          "name": "stderr",
          "text": [
            "Loss=0.03073340654373169 Batch_id=468 Accuracy=99.24: 100%|██████████| 469/469 [00:21<00:00, 21.97it/s]\n"
          ]
        },
        {
          "output_type": "stream",
          "name": "stdout",
          "text": [
            "\n",
            "Test set: Average loss: 0.0191, Accuracy: 9939/10000 (99.39%)\n",
            "\n",
            "EPOCH: 9 Learning Rate:  [0.003]\n"
          ]
        },
        {
          "output_type": "stream",
          "name": "stderr",
          "text": [
            "Loss=0.02111879177391529 Batch_id=468 Accuracy=99.30: 100%|██████████| 469/469 [00:21<00:00, 21.32it/s]\n"
          ]
        },
        {
          "output_type": "stream",
          "name": "stdout",
          "text": [
            "\n",
            "Test set: Average loss: 0.0189, Accuracy: 9943/10000 (99.43%)\n",
            "\n",
            "EPOCH: 10 Learning Rate:  [0.003]\n"
          ]
        },
        {
          "output_type": "stream",
          "name": "stderr",
          "text": [
            "Loss=0.054240062832832336 Batch_id=468 Accuracy=99.21: 100%|██████████| 469/469 [00:22<00:00, 20.57it/s]\n"
          ]
        },
        {
          "output_type": "stream",
          "name": "stdout",
          "text": [
            "\n",
            "Test set: Average loss: 0.0186, Accuracy: 9941/10000 (99.41%)\n",
            "\n",
            "EPOCH: 11 Learning Rate:  [0.003]\n"
          ]
        },
        {
          "output_type": "stream",
          "name": "stderr",
          "text": [
            "Loss=0.035656679421663284 Batch_id=468 Accuracy=99.29: 100%|██████████| 469/469 [00:22<00:00, 20.54it/s]\n"
          ]
        },
        {
          "output_type": "stream",
          "name": "stdout",
          "text": [
            "\n",
            "Test set: Average loss: 0.0190, Accuracy: 9940/10000 (99.40%)\n",
            "\n",
            "EPOCH: 12 Learning Rate:  [0.00030000000000000003]\n"
          ]
        },
        {
          "output_type": "stream",
          "name": "stderr",
          "text": [
            "Loss=0.01847524754703045 Batch_id=468 Accuracy=99.27: 100%|██████████| 469/469 [00:22<00:00, 20.62it/s]\n"
          ]
        },
        {
          "output_type": "stream",
          "name": "stdout",
          "text": [
            "\n",
            "Test set: Average loss: 0.0186, Accuracy: 9939/10000 (99.39%)\n",
            "\n",
            "EPOCH: 13 Learning Rate:  [0.00030000000000000003]\n"
          ]
        },
        {
          "output_type": "stream",
          "name": "stderr",
          "text": [
            "Loss=0.005480107385665178 Batch_id=468 Accuracy=99.30: 100%|██████████| 469/469 [00:22<00:00, 20.82it/s]\n"
          ]
        },
        {
          "output_type": "stream",
          "name": "stdout",
          "text": [
            "\n",
            "Test set: Average loss: 0.0189, Accuracy: 9942/10000 (99.42%)\n",
            "\n",
            "EPOCH: 14 Learning Rate:  [0.00030000000000000003]\n"
          ]
        },
        {
          "output_type": "stream",
          "name": "stderr",
          "text": [
            "Loss=0.0019207908771932125 Batch_id=468 Accuracy=99.27: 100%|██████████| 469/469 [00:21<00:00, 21.57it/s]\n"
          ]
        },
        {
          "output_type": "stream",
          "name": "stdout",
          "text": [
            "\n",
            "Test set: Average loss: 0.0191, Accuracy: 9941/10000 (99.41%)\n",
            "\n",
            "EPOCH: 15 Learning Rate:  [0.00030000000000000003]\n"
          ]
        },
        {
          "output_type": "stream",
          "name": "stderr",
          "text": [
            "Loss=0.010391868650913239 Batch_id=468 Accuracy=99.29: 100%|██████████| 469/469 [00:21<00:00, 21.55it/s]\n"
          ]
        },
        {
          "output_type": "stream",
          "name": "stdout",
          "text": [
            "\n",
            "Test set: Average loss: 0.0190, Accuracy: 9940/10000 (99.40%)\n",
            "\n",
            "EPOCH: 16 Learning Rate:  [0.00030000000000000003]\n"
          ]
        },
        {
          "output_type": "stream",
          "name": "stderr",
          "text": [
            "Loss=0.0063828472048044205 Batch_id=468 Accuracy=99.28: 100%|██████████| 469/469 [00:22<00:00, 20.88it/s]\n"
          ]
        },
        {
          "output_type": "stream",
          "name": "stdout",
          "text": [
            "\n",
            "Test set: Average loss: 0.0183, Accuracy: 9943/10000 (99.43%)\n",
            "\n",
            "EPOCH: 17 Learning Rate:  [0.00030000000000000003]\n"
          ]
        },
        {
          "output_type": "stream",
          "name": "stderr",
          "text": [
            "Loss=0.005814763251692057 Batch_id=468 Accuracy=99.32: 100%|██████████| 469/469 [00:23<00:00, 20.15it/s]\n"
          ]
        },
        {
          "output_type": "stream",
          "name": "stdout",
          "text": [
            "\n",
            "Test set: Average loss: 0.0187, Accuracy: 9942/10000 (99.42%)\n",
            "\n",
            "EPOCH: 18 Learning Rate:  [3.0000000000000004e-05]\n"
          ]
        },
        {
          "output_type": "stream",
          "name": "stderr",
          "text": [
            "Loss=0.003115219296887517 Batch_id=468 Accuracy=99.29: 100%|██████████| 469/469 [00:23<00:00, 20.17it/s]\n"
          ]
        },
        {
          "output_type": "stream",
          "name": "stdout",
          "text": [
            "\n",
            "Test set: Average loss: 0.0191, Accuracy: 9943/10000 (99.43%)\n",
            "\n",
            "EPOCH: 19 Learning Rate:  [3.0000000000000004e-05]\n"
          ]
        },
        {
          "output_type": "stream",
          "name": "stderr",
          "text": [
            "Loss=0.02370852418243885 Batch_id=468 Accuracy=99.28: 100%|██████████| 469/469 [00:22<00:00, 20.50it/s]\n"
          ]
        },
        {
          "output_type": "stream",
          "name": "stdout",
          "text": [
            "\n",
            "Test set: Average loss: 0.0190, Accuracy: 9942/10000 (99.42%)\n",
            "\n"
          ]
        }
      ]
    },
    {
      "cell_type": "code",
      "source": [
        "GN_test_accuracies"
      ],
      "metadata": {
        "colab": {
          "base_uri": "https://localhost:8080/"
        },
        "id": "YRn-nGMKS92P",
        "outputId": "6b19344c-ba6b-41d4-a1e6-f0386901bff2"
      },
      "execution_count": 86,
      "outputs": [
        {
          "output_type": "execute_result",
          "data": {
            "text/plain": [
              "[99.24,\n",
              " 99.34,\n",
              " 99.4,\n",
              " 99.1,\n",
              " 99.29,\n",
              " 99.23,\n",
              " 99.38,\n",
              " 99.41,\n",
              " 99.39,\n",
              " 99.43,\n",
              " 99.41,\n",
              " 99.4,\n",
              " 99.39,\n",
              " 99.42,\n",
              " 99.41,\n",
              " 99.4,\n",
              " 99.43,\n",
              " 99.42,\n",
              " 99.43,\n",
              " 99.42]"
            ]
          },
          "metadata": {},
          "execution_count": 86
        }
      ]
    },
    {
      "cell_type": "code",
      "source": [
        "import matplotlib.pyplot as plt\n",
        "misclassified_images_GN = plot_missclassification(model, test_loader)\n",
        "print(type(misclassified_images_GN))\n",
        "fig = plt.figure(figsize=(15, 5))\n",
        "for i in range(10):\n",
        "  sub = fig.add_subplot(2, 5, i+1)\n",
        "  misclassified_image = misclassified_images_GN[i]\n",
        "  plt.imshow(misclassified_image['image'].cpu().numpy().squeeze(), cmap='gray', interpolation='none')\n",
        "  sub.set_title(\"Correct class: {}\\nPredicted class: {}\".format(misclassified_image['correct_class'], misclassified_image['predicted_class']))\n",
        "plt.tight_layout()\n",
        "plt.show()"
      ],
      "metadata": {
        "colab": {
          "base_uri": "https://localhost:8080/",
          "height": 386
        },
        "id": "SodJybPOy6yE",
        "outputId": "711ba887-c63f-46ad-ffea-b77a685a5b64"
      },
      "execution_count": 87,
      "outputs": [
        {
          "output_type": "stream",
          "name": "stdout",
          "text": [
            "<class 'list'>\n"
          ]
        },
        {
          "output_type": "display_data",
          "data": {
            "text/plain": [
              "<Figure size 1080x360 with 10 Axes>"
            ],
            "image/png": "[encoded data removed]"
          },
          "metadata": {
            "needs_background": "light"
          }
        }
      ]
    },
    {
      "cell_type": "code",
      "source": [
        "from torch.optim.lr_scheduler import StepLR\n",
        "\n",
        "model =  model_LN.to(device)\n",
        "optimizer = optim.SGD(model.parameters(), lr=0.03, momentum=0.9)\n",
        "scheduler = StepLR(optimizer, step_size=6, gamma=0.1)\n",
        "LN_test_losses = []\n",
        "LN_test_accuracies = []\n",
        "\n",
        "EPOCHS = 20\n",
        "for epoch in range(EPOCHS):\n",
        "    print(\"EPOCH:\", epoch, \"Learning Rate: \", scheduler.get_last_lr())\n",
        "    LN_train_loss, LN_train_acc = train(model, device, train_loader, optimizer, epoch)\n",
        "    scheduler.step()\n",
        "    LN_test_loss, LN_test_acc = test(model, device, test_loader)\n",
        "    LN_test_losses.append(LN_test_loss[0])\n",
        "    LN_test_accuracies.append(LN_test_acc[0])"
      ],
      "metadata": {
        "colab": {
          "base_uri": "https://localhost:8080/"
        },
        "id": "o24kS4bGxADE",
        "outputId": "cb5bc3af-88c3-4dde-b8cc-37834d298e93"
      },
      "execution_count": 88,
      "outputs": [
        {
          "output_type": "stream",
          "name": "stdout",
          "text": [
            "EPOCH: 0 Learning Rate:  [0.03]\n"
          ]
        },
        {
          "output_type": "stream",
          "name": "stderr",
          "text": [
            "Loss=0.03598655387759209 Batch_id=468 Accuracy=98.84: 100%|██████████| 469/469 [00:22<00:00, 20.91it/s]\n"
          ]
        },
        {
          "output_type": "stream",
          "name": "stdout",
          "text": [
            "\n",
            "Test set: Average loss: 0.0226, Accuracy: 9936/10000 (99.36%)\n",
            "\n",
            "EPOCH: 1 Learning Rate:  [0.03]\n"
          ]
        },
        {
          "output_type": "stream",
          "name": "stderr",
          "text": [
            "Loss=0.05677634850144386 Batch_id=468 Accuracy=98.90: 100%|██████████| 469/469 [00:21<00:00, 21.78it/s]\n"
          ]
        },
        {
          "output_type": "stream",
          "name": "stdout",
          "text": [
            "\n",
            "Test set: Average loss: 0.0261, Accuracy: 9922/10000 (99.22%)\n",
            "\n",
            "EPOCH: 2 Learning Rate:  [0.03]\n"
          ]
        },
        {
          "output_type": "stream",
          "name": "stderr",
          "text": [
            "Loss=0.007201609667390585 Batch_id=468 Accuracy=98.88: 100%|██████████| 469/469 [00:21<00:00, 22.05it/s]\n"
          ]
        },
        {
          "output_type": "stream",
          "name": "stdout",
          "text": [
            "\n",
            "Test set: Average loss: 0.0212, Accuracy: 9940/10000 (99.40%)\n",
            "\n",
            "EPOCH: 3 Learning Rate:  [0.03]\n"
          ]
        },
        {
          "output_type": "stream",
          "name": "stderr",
          "text": [
            "Loss=0.014906872995197773 Batch_id=468 Accuracy=99.01: 100%|██████████| 469/469 [00:21<00:00, 21.47it/s]\n"
          ]
        },
        {
          "output_type": "stream",
          "name": "stdout",
          "text": [
            "\n",
            "Test set: Average loss: 0.0287, Accuracy: 9906/10000 (99.06%)\n",
            "\n",
            "EPOCH: 4 Learning Rate:  [0.03]\n"
          ]
        },
        {
          "output_type": "stream",
          "name": "stderr",
          "text": [
            "Loss=0.0684015229344368 Batch_id=468 Accuracy=99.07: 100%|██████████| 469/469 [00:22<00:00, 20.89it/s]\n"
          ]
        },
        {
          "output_type": "stream",
          "name": "stdout",
          "text": [
            "\n",
            "Test set: Average loss: 0.0204, Accuracy: 9933/10000 (99.33%)\n",
            "\n",
            "EPOCH: 5 Learning Rate:  [0.03]\n"
          ]
        },
        {
          "output_type": "stream",
          "name": "stderr",
          "text": [
            "Loss=0.035998813807964325 Batch_id=468 Accuracy=99.00: 100%|██████████| 469/469 [00:22<00:00, 20.87it/s]\n"
          ]
        },
        {
          "output_type": "stream",
          "name": "stdout",
          "text": [
            "\n",
            "Test set: Average loss: 0.0215, Accuracy: 9941/10000 (99.41%)\n",
            "\n",
            "EPOCH: 6 Learning Rate:  [0.003]\n"
          ]
        },
        {
          "output_type": "stream",
          "name": "stderr",
          "text": [
            "Loss=0.0092848502099514 Batch_id=468 Accuracy=99.26: 100%|██████████| 469/469 [00:22<00:00, 21.28it/s]\n"
          ]
        },
        {
          "output_type": "stream",
          "name": "stdout",
          "text": [
            "\n",
            "Test set: Average loss: 0.0164, Accuracy: 9952/10000 (99.52%)\n",
            "\n",
            "EPOCH: 7 Learning Rate:  [0.003]\n"
          ]
        },
        {
          "output_type": "stream",
          "name": "stderr",
          "text": [
            "Loss=0.011058167554438114 Batch_id=468 Accuracy=99.34: 100%|██████████| 469/469 [00:21<00:00, 21.99it/s]\n"
          ]
        },
        {
          "output_type": "stream",
          "name": "stdout",
          "text": [
            "\n",
            "Test set: Average loss: 0.0163, Accuracy: 9952/10000 (99.52%)\n",
            "\n",
            "EPOCH: 8 Learning Rate:  [0.003]\n"
          ]
        },
        {
          "output_type": "stream",
          "name": "stderr",
          "text": [
            "Loss=0.03414362296462059 Batch_id=468 Accuracy=99.32: 100%|██████████| 469/469 [00:21<00:00, 21.69it/s]\n"
          ]
        },
        {
          "output_type": "stream",
          "name": "stdout",
          "text": [
            "\n",
            "Test set: Average loss: 0.0161, Accuracy: 9952/10000 (99.52%)\n",
            "\n",
            "EPOCH: 9 Learning Rate:  [0.003]\n"
          ]
        },
        {
          "output_type": "stream",
          "name": "stderr",
          "text": [
            "Loss=0.025441596284508705 Batch_id=468 Accuracy=99.35: 100%|██████████| 469/469 [00:22<00:00, 20.67it/s]\n"
          ]
        },
        {
          "output_type": "stream",
          "name": "stdout",
          "text": [
            "\n",
            "Test set: Average loss: 0.0164, Accuracy: 9951/10000 (99.51%)\n",
            "\n",
            "EPOCH: 10 Learning Rate:  [0.003]\n"
          ]
        },
        {
          "output_type": "stream",
          "name": "stderr",
          "text": [
            "Loss=0.02149462141096592 Batch_id=468 Accuracy=99.38: 100%|██████████| 469/469 [00:22<00:00, 20.80it/s]\n"
          ]
        },
        {
          "output_type": "stream",
          "name": "stdout",
          "text": [
            "\n",
            "Test set: Average loss: 0.0158, Accuracy: 9955/10000 (99.55%)\n",
            "\n",
            "EPOCH: 11 Learning Rate:  [0.003]\n"
          ]
        },
        {
          "output_type": "stream",
          "name": "stderr",
          "text": [
            "Loss=0.025922344997525215 Batch_id=468 Accuracy=99.38: 100%|██████████| 469/469 [00:21<00:00, 21.64it/s]\n"
          ]
        },
        {
          "output_type": "stream",
          "name": "stdout",
          "text": [
            "\n",
            "Test set: Average loss: 0.0158, Accuracy: 9956/10000 (99.56%)\n",
            "\n",
            "EPOCH: 12 Learning Rate:  [0.00030000000000000003]\n"
          ]
        },
        {
          "output_type": "stream",
          "name": "stderr",
          "text": [
            "Loss=0.015548422932624817 Batch_id=468 Accuracy=99.34: 100%|██████████| 469/469 [00:21<00:00, 22.29it/s]\n"
          ]
        },
        {
          "output_type": "stream",
          "name": "stdout",
          "text": [
            "\n",
            "Test set: Average loss: 0.0154, Accuracy: 9956/10000 (99.56%)\n",
            "\n",
            "EPOCH: 13 Learning Rate:  [0.00030000000000000003]\n"
          ]
        },
        {
          "output_type": "stream",
          "name": "stderr",
          "text": [
            "Loss=0.013566765002906322 Batch_id=468 Accuracy=99.39: 100%|██████████| 469/469 [00:21<00:00, 22.05it/s]\n"
          ]
        },
        {
          "output_type": "stream",
          "name": "stdout",
          "text": [
            "\n",
            "Test set: Average loss: 0.0155, Accuracy: 9956/10000 (99.56%)\n",
            "\n",
            "EPOCH: 14 Learning Rate:  [0.00030000000000000003]\n"
          ]
        },
        {
          "output_type": "stream",
          "name": "stderr",
          "text": [
            "Loss=0.010657884180545807 Batch_id=468 Accuracy=99.37: 100%|██████████| 469/469 [00:21<00:00, 21.33it/s]\n"
          ]
        },
        {
          "output_type": "stream",
          "name": "stdout",
          "text": [
            "\n",
            "Test set: Average loss: 0.0155, Accuracy: 9956/10000 (99.56%)\n",
            "\n",
            "EPOCH: 15 Learning Rate:  [0.00030000000000000003]\n"
          ]
        },
        {
          "output_type": "stream",
          "name": "stderr",
          "text": [
            "Loss=0.04188929498195648 Batch_id=468 Accuracy=99.39: 100%|██████████| 469/469 [00:22<00:00, 21.27it/s]\n"
          ]
        },
        {
          "output_type": "stream",
          "name": "stdout",
          "text": [
            "\n",
            "Test set: Average loss: 0.0154, Accuracy: 9956/10000 (99.56%)\n",
            "\n",
            "EPOCH: 16 Learning Rate:  [0.00030000000000000003]\n"
          ]
        },
        {
          "output_type": "stream",
          "name": "stderr",
          "text": [
            "Loss=0.010283811017870903 Batch_id=468 Accuracy=99.37: 100%|██████████| 469/469 [00:21<00:00, 21.62it/s]\n"
          ]
        },
        {
          "output_type": "stream",
          "name": "stdout",
          "text": [
            "\n",
            "Test set: Average loss: 0.0153, Accuracy: 9954/10000 (99.54%)\n",
            "\n",
            "EPOCH: 17 Learning Rate:  [0.00030000000000000003]\n"
          ]
        },
        {
          "output_type": "stream",
          "name": "stderr",
          "text": [
            "Loss=0.009974823333323002 Batch_id=468 Accuracy=99.39: 100%|██████████| 469/469 [00:21<00:00, 21.66it/s]\n"
          ]
        },
        {
          "output_type": "stream",
          "name": "stdout",
          "text": [
            "\n",
            "Test set: Average loss: 0.0154, Accuracy: 9953/10000 (99.53%)\n",
            "\n",
            "EPOCH: 18 Learning Rate:  [3.0000000000000004e-05]\n"
          ]
        },
        {
          "output_type": "stream",
          "name": "stderr",
          "text": [
            "Loss=0.0014141428982838988 Batch_id=468 Accuracy=99.42: 100%|██████████| 469/469 [00:21<00:00, 21.37it/s]\n"
          ]
        },
        {
          "output_type": "stream",
          "name": "stdout",
          "text": [
            "\n",
            "Test set: Average loss: 0.0154, Accuracy: 9953/10000 (99.53%)\n",
            "\n",
            "EPOCH: 19 Learning Rate:  [3.0000000000000004e-05]\n"
          ]
        },
        {
          "output_type": "stream",
          "name": "stderr",
          "text": [
            "Loss=0.006583646405488253 Batch_id=468 Accuracy=99.42: 100%|██████████| 469/469 [00:23<00:00, 20.32it/s]\n"
          ]
        },
        {
          "output_type": "stream",
          "name": "stdout",
          "text": [
            "\n",
            "Test set: Average loss: 0.0154, Accuracy: 9953/10000 (99.53%)\n",
            "\n"
          ]
        }
      ]
    },
    {
      "cell_type": "code",
      "source": [
        "import matplotlib.pyplot as plt\n",
        "misclassified_images_LN = plot_missclassification(model, test_loader)\n",
        "print(type(misclassified_images_LN))\n",
        "fig = plt.figure(figsize=(15, 5))\n",
        "for i in range(10):\n",
        "  sub = fig.add_subplot(2, 5, i+1)\n",
        "  misclassified_image = misclassified_images_LN[i]\n",
        "  plt.imshow(misclassified_image['image'].cpu().numpy().squeeze(), cmap='gray', interpolation='none')\n",
        "  sub.set_title(\"Correct class: {}\\nPredicted class: {}\".format(misclassified_image['correct_class'], misclassified_image['predicted_class']))\n",
        "plt.tight_layout()\n",
        "plt.show()"
      ],
      "metadata": {
        "colab": {
          "base_uri": "https://localhost:8080/",
          "height": 386
        },
        "id": "kXd1sdvz5BUT",
        "outputId": "27d1cf3a-eec6-4930-d6ed-bf348d47ac67"
      },
      "execution_count": 89,
      "outputs": [
        {
          "output_type": "stream",
          "name": "stdout",
          "text": [
            "<class 'list'>\n"
          ]
        },
        {
          "output_type": "display_data",
          "data": {
            "text/plain": [
              "<Figure size 1080x360 with 10 Axes>"
            ],
            "image/png": "[encoded data removed]"
          },
          "metadata": {
            "needs_background": "light"
          }
        }
      ]
    },
    {
      "cell_type": "code",
      "source": [
        "from torch.optim.lr_scheduler import StepLR\n",
        "\n",
        "model =  model_BN.to(device)\n",
        "optimizer = optim.SGD(model.parameters(), lr=0.03, momentum=0.9)\n",
        "scheduler = StepLR(optimizer, step_size=6, gamma=0.1)\n",
        "BN_test_losses = []\n",
        "BN_test_accuracies = []\n",
        "\n",
        "EPOCHS = 20\n",
        "for epoch in range(EPOCHS):\n",
        "    print(\"EPOCH:\", epoch, \"Learning Rate: \", scheduler.get_last_lr())\n",
        "    BN_train_loss, BN_train_acc = train(model, device, train_loader, optimizer, epoch, \"true\")\n",
        "    scheduler.step()\n",
        "    BN_test_loss, BN_test_acc = test(model, device, test_loader)\n",
        "    BN_test_losses.append(BN_test_loss[0])\n",
        "    BN_test_accuracies.append(BN_test_acc[0])"
      ],
      "metadata": {
        "colab": {
          "base_uri": "https://localhost:8080/"
        },
        "id": "8ZV6YweBxP3Y",
        "outputId": "bec8ed1e-f30d-4086-8aad-5438239c30e6"
      },
      "execution_count": 90,
      "outputs": [
        {
          "output_type": "stream",
          "name": "stdout",
          "text": [
            "EPOCH: 0 Learning Rate:  [0.03]\n"
          ]
        },
        {
          "output_type": "stream",
          "name": "stderr",
          "text": [
            "Loss=0.012565161101520061 Batch_id=468 Accuracy=98.77: 100%|██████████| 469/469 [00:23<00:00, 19.90it/s]\n"
          ]
        },
        {
          "output_type": "stream",
          "name": "stdout",
          "text": [
            "\n",
            "Test set: Average loss: 0.0233, Accuracy: 9931/10000 (99.31%)\n",
            "\n",
            "EPOCH: 1 Learning Rate:  [0.03]\n"
          ]
        },
        {
          "output_type": "stream",
          "name": "stderr",
          "text": [
            "Loss=0.06284476071596146 Batch_id=468 Accuracy=98.81: 100%|██████████| 469/469 [00:23<00:00, 19.72it/s]\n"
          ]
        },
        {
          "output_type": "stream",
          "name": "stdout",
          "text": [
            "\n",
            "Test set: Average loss: 0.0305, Accuracy: 9901/10000 (99.01%)\n",
            "\n",
            "EPOCH: 2 Learning Rate:  [0.03]\n"
          ]
        },
        {
          "output_type": "stream",
          "name": "stderr",
          "text": [
            "Loss=0.05931258574128151 Batch_id=468 Accuracy=98.81: 100%|██████████| 469/469 [00:23<00:00, 20.06it/s]\n"
          ]
        },
        {
          "output_type": "stream",
          "name": "stdout",
          "text": [
            "\n",
            "Test set: Average loss: 0.0228, Accuracy: 9920/10000 (99.20%)\n",
            "\n",
            "EPOCH: 3 Learning Rate:  [0.03]\n"
          ]
        },
        {
          "output_type": "stream",
          "name": "stderr",
          "text": [
            "Loss=0.026264680549502373 Batch_id=468 Accuracy=98.94: 100%|██████████| 469/469 [00:23<00:00, 19.86it/s]\n"
          ]
        },
        {
          "output_type": "stream",
          "name": "stdout",
          "text": [
            "\n",
            "Test set: Average loss: 0.0202, Accuracy: 9930/10000 (99.30%)\n",
            "\n",
            "EPOCH: 4 Learning Rate:  [0.03]\n"
          ]
        },
        {
          "output_type": "stream",
          "name": "stderr",
          "text": [
            "Loss=0.023410314694046974 Batch_id=468 Accuracy=98.88: 100%|██████████| 469/469 [00:23<00:00, 19.90it/s]\n"
          ]
        },
        {
          "output_type": "stream",
          "name": "stdout",
          "text": [
            "\n",
            "Test set: Average loss: 0.0238, Accuracy: 9916/10000 (99.16%)\n",
            "\n",
            "EPOCH: 5 Learning Rate:  [0.03]\n"
          ]
        },
        {
          "output_type": "stream",
          "name": "stderr",
          "text": [
            "Loss=0.00954023003578186 Batch_id=468 Accuracy=98.90: 100%|██████████| 469/469 [00:23<00:00, 19.95it/s]\n"
          ]
        },
        {
          "output_type": "stream",
          "name": "stdout",
          "text": [
            "\n",
            "Test set: Average loss: 0.0200, Accuracy: 9935/10000 (99.35%)\n",
            "\n",
            "EPOCH: 6 Learning Rate:  [0.003]\n"
          ]
        },
        {
          "output_type": "stream",
          "name": "stderr",
          "text": [
            "Loss=0.0069345831871032715 Batch_id=468 Accuracy=99.15: 100%|██████████| 469/469 [00:23<00:00, 19.83it/s]\n"
          ]
        },
        {
          "output_type": "stream",
          "name": "stdout",
          "text": [
            "\n",
            "Test set: Average loss: 0.0171, Accuracy: 9941/10000 (99.41%)\n",
            "\n",
            "EPOCH: 7 Learning Rate:  [0.003]\n"
          ]
        },
        {
          "output_type": "stream",
          "name": "stderr",
          "text": [
            "Loss=0.024353766813874245 Batch_id=468 Accuracy=99.24: 100%|██████████| 469/469 [00:23<00:00, 19.88it/s]\n"
          ]
        },
        {
          "output_type": "stream",
          "name": "stdout",
          "text": [
            "\n",
            "Test set: Average loss: 0.0165, Accuracy: 9943/10000 (99.43%)\n",
            "\n",
            "EPOCH: 8 Learning Rate:  [0.003]\n"
          ]
        },
        {
          "output_type": "stream",
          "name": "stderr",
          "text": [
            "Loss=0.0018447641050443053 Batch_id=468 Accuracy=99.25: 100%|██████████| 469/469 [00:24<00:00, 18.77it/s]\n"
          ]
        },
        {
          "output_type": "stream",
          "name": "stdout",
          "text": [
            "\n",
            "Test set: Average loss: 0.0169, Accuracy: 9943/10000 (99.43%)\n",
            "\n",
            "EPOCH: 9 Learning Rate:  [0.003]\n"
          ]
        },
        {
          "output_type": "stream",
          "name": "stderr",
          "text": [
            "Loss=0.008117351680994034 Batch_id=468 Accuracy=99.25: 100%|██████████| 469/469 [00:23<00:00, 20.08it/s]\n"
          ]
        },
        {
          "output_type": "stream",
          "name": "stdout",
          "text": [
            "\n",
            "Test set: Average loss: 0.0164, Accuracy: 9942/10000 (99.42%)\n",
            "\n",
            "EPOCH: 10 Learning Rate:  [0.003]\n"
          ]
        },
        {
          "output_type": "stream",
          "name": "stderr",
          "text": [
            "Loss=0.04997572302818298 Batch_id=468 Accuracy=99.27: 100%|██████████| 469/469 [00:22<00:00, 20.82it/s]\n"
          ]
        },
        {
          "output_type": "stream",
          "name": "stdout",
          "text": [
            "\n",
            "Test set: Average loss: 0.0160, Accuracy: 9942/10000 (99.42%)\n",
            "\n",
            "EPOCH: 11 Learning Rate:  [0.003]\n"
          ]
        },
        {
          "output_type": "stream",
          "name": "stderr",
          "text": [
            "Loss=0.013226166367530823 Batch_id=468 Accuracy=99.21: 100%|██████████| 469/469 [00:22<00:00, 20.85it/s]\n"
          ]
        },
        {
          "output_type": "stream",
          "name": "stdout",
          "text": [
            "\n",
            "Test set: Average loss: 0.0162, Accuracy: 9940/10000 (99.40%)\n",
            "\n",
            "EPOCH: 12 Learning Rate:  [0.00030000000000000003]\n"
          ]
        },
        {
          "output_type": "stream",
          "name": "stderr",
          "text": [
            "Loss=0.11235647648572922 Batch_id=468 Accuracy=99.26: 100%|██████████| 469/469 [00:22<00:00, 20.39it/s]\n"
          ]
        },
        {
          "output_type": "stream",
          "name": "stdout",
          "text": [
            "\n",
            "Test set: Average loss: 0.0162, Accuracy: 9942/10000 (99.42%)\n",
            "\n",
            "EPOCH: 13 Learning Rate:  [0.00030000000000000003]\n"
          ]
        },
        {
          "output_type": "stream",
          "name": "stderr",
          "text": [
            "Loss=0.02004920318722725 Batch_id=468 Accuracy=99.26: 100%|██████████| 469/469 [00:23<00:00, 20.15it/s]\n"
          ]
        },
        {
          "output_type": "stream",
          "name": "stdout",
          "text": [
            "\n",
            "Test set: Average loss: 0.0160, Accuracy: 9940/10000 (99.40%)\n",
            "\n",
            "EPOCH: 14 Learning Rate:  [0.00030000000000000003]\n"
          ]
        },
        {
          "output_type": "stream",
          "name": "stderr",
          "text": [
            "Loss=0.08686868101358414 Batch_id=468 Accuracy=99.29: 100%|██████████| 469/469 [00:23<00:00, 20.06it/s]\n"
          ]
        },
        {
          "output_type": "stream",
          "name": "stdout",
          "text": [
            "\n",
            "Test set: Average loss: 0.0161, Accuracy: 9943/10000 (99.43%)\n",
            "\n",
            "EPOCH: 15 Learning Rate:  [0.00030000000000000003]\n"
          ]
        },
        {
          "output_type": "stream",
          "name": "stderr",
          "text": [
            "Loss=0.01431128941476345 Batch_id=468 Accuracy=99.30: 100%|██████████| 469/469 [00:23<00:00, 20.15it/s]\n"
          ]
        },
        {
          "output_type": "stream",
          "name": "stdout",
          "text": [
            "\n",
            "Test set: Average loss: 0.0163, Accuracy: 9941/10000 (99.41%)\n",
            "\n",
            "EPOCH: 16 Learning Rate:  [0.00030000000000000003]\n"
          ]
        },
        {
          "output_type": "stream",
          "name": "stderr",
          "text": [
            "Loss=0.019992610439658165 Batch_id=468 Accuracy=99.31: 100%|██████████| 469/469 [00:23<00:00, 20.22it/s]\n"
          ]
        },
        {
          "output_type": "stream",
          "name": "stdout",
          "text": [
            "\n",
            "Test set: Average loss: 0.0164, Accuracy: 9941/10000 (99.41%)\n",
            "\n",
            "EPOCH: 17 Learning Rate:  [0.00030000000000000003]\n"
          ]
        },
        {
          "output_type": "stream",
          "name": "stderr",
          "text": [
            "Loss=0.04330362379550934 Batch_id=468 Accuracy=99.28: 100%|██████████| 469/469 [00:23<00:00, 20.22it/s]\n"
          ]
        },
        {
          "output_type": "stream",
          "name": "stdout",
          "text": [
            "\n",
            "Test set: Average loss: 0.0163, Accuracy: 9944/10000 (99.44%)\n",
            "\n",
            "EPOCH: 18 Learning Rate:  [3.0000000000000004e-05]\n"
          ]
        },
        {
          "output_type": "stream",
          "name": "stderr",
          "text": [
            "Loss=0.037338756024837494 Batch_id=468 Accuracy=99.29: 100%|██████████| 469/469 [00:22<00:00, 20.68it/s]\n"
          ]
        },
        {
          "output_type": "stream",
          "name": "stdout",
          "text": [
            "\n",
            "Test set: Average loss: 0.0158, Accuracy: 9943/10000 (99.43%)\n",
            "\n",
            "EPOCH: 19 Learning Rate:  [3.0000000000000004e-05]\n"
          ]
        },
        {
          "output_type": "stream",
          "name": "stderr",
          "text": [
            "Loss=0.06413234770298004 Batch_id=468 Accuracy=99.30: 100%|██████████| 469/469 [00:22<00:00, 20.97it/s]\n"
          ]
        },
        {
          "output_type": "stream",
          "name": "stdout",
          "text": [
            "\n",
            "Test set: Average loss: 0.0168, Accuracy: 9940/10000 (99.40%)\n",
            "\n"
          ]
        }
      ]
    },
    {
      "cell_type": "code",
      "source": [
        "import matplotlib.pyplot as plt\n",
        "misclassified_images_BN = plot_missclassification(model, test_loader)\n",
        "print(type(misclassified_images_LN))\n",
        "fig = plt.figure(figsize=(15, 5))\n",
        "for i in range(10):\n",
        "  sub = fig.add_subplot(2, 5, i+1)\n",
        "  misclassified_image = misclassified_images_BN[i]\n",
        "  plt.imshow(misclassified_image['image'].cpu().numpy().squeeze(), cmap='gray', interpolation='none')\n",
        "  sub.set_title(\"Correct class: {}\\nPredicted class: {}\".format(misclassified_image['correct_class'], misclassified_image['predicted_class']))\n",
        "plt.tight_layout()\n",
        "plt.show()"
      ],
      "metadata": {
        "colab": {
          "base_uri": "https://localhost:8080/",
          "height": 386
        },
        "id": "y3S7ofCo62NE",
        "outputId": "7fd490f3-3e77-4ac0-c085-d334ca36641f"
      },
      "execution_count": 91,
      "outputs": [
        {
          "output_type": "stream",
          "name": "stdout",
          "text": [
            "<class 'list'>\n"
          ]
        },
        {
          "output_type": "display_data",
          "data": {
            "text/plain": [
              "<Figure size 1080x360 with 10 Axes>"
            ],
            "image/png": "[encoded data removed]"
          },
          "metadata": {
            "needs_background": "light"
          }
        }
      ]
    },
    {
      "cell_type": "code",
      "source": [
        "plt.plot(GN_test_losses, label=\"Batch Normalization\")\n",
        "plt.plot(LN_test_losses, label=\"Group Normalization\")\n",
        "plt.plot(BN_test_losses, label=\"Layer Normalization\")\n",
        "plt.xlabel('Epochs')\n",
        "plt.ylabel('Loss')\n",
        "plt.title(\"Epoch vs Loss for 3 Normalization Techniques\")\n",
        "plt.legend()"
      ],
      "metadata": {
        "id": "M2zmxK3K8sj1",
        "colab": {
          "base_uri": "https://localhost:8080/",
          "height": 312
        },
        "outputId": "38e82f45-aa55-4958-c0b5-76363ecf0f6a"
      },
      "execution_count": 95,
      "outputs": [
        {
          "output_type": "execute_result",
          "data": {
            "text/plain": [
              "<matplotlib.legend.Legend at 0x7fbd600e1e20>"
            ]
          },
          "metadata": {},
          "execution_count": 95
        },
        {
          "output_type": "display_data",
          "data": {
            "text/plain": [
              "<Figure size 432x288 with 1 Axes>"
            ],
            "image/png": "[encoded data removed]"
          },
          "metadata": {
            "needs_background": "light"
          }
        }
      ]
    },
    {
      "cell_type": "code",
      "source": [
        "plt.plot(GN_test_accuracies, label=\"Batch Normalization\")\n",
        "plt.plot(LN_test_accuracies, label=\"Group Normalization\")\n",
        "plt.plot(BN_test_accuracies, label=\"Layer Normalization\")\n",
        "plt.xlabel('Epochs')\n",
        "plt.ylabel('Accuracy')\n",
        "plt.title(\"Epoch vs Loss for 3 Normalization Techniques\")\n",
        "plt.legend()"
      ],
      "metadata": {
        "colab": {
          "base_uri": "https://localhost:8080/",
          "height": 312
        },
        "id": "sSx7YPt4JAoU",
        "outputId": "43b161c7-26a0-4fac-850f-1e848a2c6ef3"
      },
      "execution_count": 96,
      "outputs": [
        {
          "output_type": "execute_result",
          "data": {
            "text/plain": [
              "<matplotlib.legend.Legend at 0x7fbd6015dfa0>"
            ]
          },
          "metadata": {},
          "execution_count": 96
        },
        {
          "output_type": "display_data",
          "data": {
            "text/plain": [
              "<Figure size 432x288 with 1 Axes>"
            ],
            "image/png": "[encoded data removed]"
          },
          "metadata": {
            "needs_background": "light"
          }
        }
      ]
    },
    {
      "cell_type": "code",
      "source": [
        "BN_test_acc"
      ],
      "metadata": {
        "colab": {
          "base_uri": "https://localhost:8080/"
        },
        "id": "khBL-N5RJHs7",
        "outputId": "62068642-ad9a-480c-e272-90ad9d7be3dc"
      },
      "execution_count": 94,
      "outputs": [
        {
          "output_type": "execute_result",
          "data": {
            "text/plain": [
              "[99.4]"
            ]
          },
          "metadata": {},
          "execution_count": 94
        }
      ]
    },
    {
      "cell_type": "code",
      "source": [],
      "metadata": {
        "id": "18B9wLsKPMbd"
      },
      "execution_count": null,
      "outputs": []
    }
  ]
}