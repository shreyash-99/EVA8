{
  "nbformat": 4,
  "nbformat_minor": 0,
  "metadata": {
    "colab": {
      "provenance": []
    },
    "kernelspec": {
      "name": "python3",
      "display_name": "Python 3"
    },
    "language_info": {
      "name": "python"
    },
    "accelerator": "GPU",
    "gpuClass": "standard"
  },
  "cells": [
    {
      "cell_type": "code",
      "execution_count": null,
      "metadata": {
        "colab": {
          "base_uri": "https://localhost:8080/"
        },
        "id": "33tT-SRU2Az3",
        "outputId": "7fdfabcc-bbbe-4720-b1d4-ada01950ad11"
      },
      "outputs": [
        {
          "output_type": "stream",
          "name": "stdout",
          "text": [
            "Looking in indexes: https://pypi.org/simple, https://us-python.pkg.dev/colab-wheels/public/simple/\n",
            "Requirement already satisfied: einops in /usr/local/lib/python3.9/dist-packages (0.6.0)\n"
          ]
        }
      ],
      "source": [
        "# https://github.com/lucidrains/vit-pytorch/blob/main/vit_pytorch/vit.py\n",
        "\n",
        "import torch\n",
        "from torch import nn\n",
        "\n",
        "!pip install einops\n",
        "from einops import rearrange, repeat\n",
        "from einops.layers.torch import Rearrange\n",
        "import numpy as np\n",
        "from collections import defaultdict\n",
        "import matplotlib.pyplot as plt\n",
        "\n",
        "import torch.optim as optim\n",
        "import torch.nn.functional as F\n",
        "from torchvision import datasets, transforms\n",
        "import torchvision\n",
        "# helpers\n",
        "\n",
        "def pair(t):\n",
        "    return t if isinstance(t, tuple) else (t, t)\n",
        "\n",
        "# classes\n",
        "\n",
        "class PreNorm(nn.Module):\n",
        "    def __init__(self, dim, fn):\n",
        "        super().__init__()\n",
        "        self.norm = nn.LayerNorm(dim)\n",
        "        self.fn = fn\n",
        "    def forward(self, x, **kwargs):\n",
        "        return self.fn(self.norm(x), **kwargs)\n",
        "\n",
        "class FeedForward(nn.Module):\n",
        "    def __init__(self, dim, hidden_dim, dropout = 0.):\n",
        "        super().__init__()\n",
        "        self.net = nn.Sequential(\n",
        "            # nn.Linear(dim, hidden_dim),\n",
        "            nn.Conv2d(dim, hidden_dim,1),\n",
        "            nn.GELU(),\n",
        "            nn.Dropout(dropout),\n",
        "            # nn.Linear(hidden_dim, dim),\n",
        "            nn.Conv2d(hidden_dim, dim, 1),\n",
        "            nn.Dropout(dropout)\n",
        "        )\n",
        "    def forward(self, x):\n",
        "        x = rearrange(x, 'b p c -> c p b')\n",
        "        x = self.net(x)\n",
        "        x = rearrange(x, 'c p b -> b p c')\n",
        "        return x\n",
        "\n",
        "class Attention(nn.Module):\n",
        "    def __init__(self, dim, heads = 8, dim_head = 64, dropout = 0.):\n",
        "        super().__init__()\n",
        "        inner_dim = dim_head *  heads\n",
        "        project_out = not (heads == 1 and dim_head == dim)\n",
        "\n",
        "        self.heads = heads\n",
        "        self.scale = dim_head ** -0.5\n",
        "\n",
        "        self.attend = nn.Softmax(dim = -1)\n",
        "        # self.to_qkv = nn.Linear(dim, inner_dim * 3, bias = False)\n",
        "\n",
        "        self.to_qkv = nn.Sequential(\n",
        "            Rearrange('b p dim -> dim b p'),\n",
        "            nn.Conv2d(dim,inner_dim * 3, 1),\n",
        "            Rearrange('i_dim b p -> b p i_dim')\n",
        "\n",
        "        )\n",
        "        self.to_out = nn.Sequential(\n",
        "            Rearrange('b p i_dim -> i_dim b p'),\n",
        "            nn.Conv2d(inner_dim, dim, 1),\n",
        "            Rearrange('dim b p -> b p dim'),\n",
        "            nn.Dropout(dropout)\n",
        "        ) if project_out else nn.Identity()\n",
        "\n",
        "    def forward(self, x):\n",
        "        ## input x = (b , patch + 1 , dim = 128) -> output qkv = (b, patch + 1 , dim_heads * heads * 3)\n",
        "        qkv = self.to_qkv(x).chunk(3, dim = -1)\n",
        "\n",
        "        q, k, v = map(lambda t: rearrange(t, 'b n (h d) -> b h n d', h = self.heads), qkv) ### separating into different heads\n",
        "\n",
        "        dots = torch.matmul(q, k.transpose(-1, -2)) * self.scale\n",
        "\n",
        "        attn = self.attend(dots)\n",
        "\n",
        "        out = torch.matmul(attn, v)\n",
        "        out = rearrange(out, 'b h n d -> b n (h d)')### combining all the heads\n",
        "        # print(out.shape)\n",
        "\n",
        "        return self.to_out(out)\n",
        "\n",
        "class Transformer(nn.Module):\n",
        "    def __init__(self, dim, depth, heads, dim_head, mlp_dim, dropout = 0.):\n",
        "        super().__init__()\n",
        "        self.layers = nn.ModuleList([])\n",
        "        for _ in range(depth):\n",
        "            self.layers.append(nn.ModuleList([\n",
        "                PreNorm(dim, Attention(dim, heads = heads, dim_head = dim_head, dropout = dropout)),\n",
        "                PreNorm(dim, FeedForward(dim, mlp_dim, dropout = dropout))\n",
        "            ]))\n",
        "    def forward(self, x):\n",
        "        for attn, ff in self.layers:\n",
        "            x = attn(x) + x\n",
        "            x = ff(x) + x\n",
        "        return x\n",
        "\n",
        "class ViT(nn.Module):\n",
        "    def __init__(self, *, image_size, patch_size, num_classes, dim, depth, heads, mlp_dim, pool = 'cls', channels = 3, dim_head = 64, dropout = 0., emb_dropout = 0.):\n",
        "        super().__init__()\n",
        "        image_height, image_width = pair(image_size)\n",
        "        patch_height, patch_width = pair(patch_size)\n",
        "        assert image_height % patch_height == 0 and image_width % patch_width == 0, 'Image dimensions must be divisible by the patch size.'\n",
        "\n",
        "        num_patches = (image_height // patch_height) * (image_width // patch_width)\n",
        "        patch_dim = channels * patch_height * patch_width\n",
        "        assert pool in {'cls', 'mean'}, 'pool type must be either cls (cls token) or mean (mean pooling)'\n",
        "\n",
        "        self.to_patch_embedding = nn.Sequential(\n",
        "            # input(batch,channel,heightImage, widthImage) -> output(batch, h*w of patch, dim_embedding_of_patch)\n",
        "            # Rearrange('b c (h p1) (w p2) -> b (h w) (p1 p2 c)', p1 = patch_height, p2 = patch_width),       ###. h* p1 = height of original img therefor h = height of the patch , output = batch, dim of patches, patch dim(type of embedding for each patch).\n",
        "            # nn.Linear(patch_dim, dim),\n",
        "            nn.Conv2d(3, dim , kernel_size = (patch_height, patch_width), stride = (patch_height, patch_width)), # output(b, num of patches , patch_dim_embedding)\n",
        "            Rearrange('b c h w -> b (h w) c')\n",
        "        )\n",
        "\n",
        "        self.pos_embedding = nn.Parameter(torch.randn(1, num_patches + 1, dim))\n",
        "        self.cls_token = nn.Parameter(torch.randn(1, 1, dim))\n",
        "        self.dropout = nn.Dropout(emb_dropout)\n",
        "\n",
        "        self.transformer = Transformer(dim, depth, heads, dim_head, mlp_dim, dropout)\n",
        "\n",
        "        self.pool = pool\n",
        "        self.to_latent = nn.Identity()\n",
        "\n",
        "        self.mlp_head = nn.Sequential(\n",
        "            nn.LayerNorm(dim),\n",
        "            Rearrange('(b c) dim -> dim b c', c = 1),\n",
        "            nn.Conv2d(dim, num_classes, 1),\n",
        "            Rearrange('class b c -> (b c) class')\n",
        "        )\n",
        "\n",
        "    def forward(self, img):\n",
        "        # print(12)\n",
        "        x = self.to_patch_embedding(img)\n",
        "        b, n, _ = x.shape\n",
        "        # print(b,n) ## b = batch number, n = number of patches = 63 in this case.\n",
        "        cls_tokens = repeat(self.cls_token, '() n d -> b n d', b = b)\n",
        "        x = torch.cat((cls_tokens, x), dim=1)\n",
        "        x += self.pos_embedding[:, :(n + 1)]\n",
        "        x = self.dropout(x)\n",
        "        x = self.transformer(x)\n",
        "\n",
        "        # x = x.mean(dim = 1) if self.pool == 'mean' else x[:, 0]\n",
        "\n",
        "        cls = x[ : , 0] ## extracts the cls token from the x\n",
        "\n",
        "        cls = self.to_latent(cls)\n",
        "        cls = self.mlp_head(cls)\n",
        "        return cls"
      ]
    },
    {
      "cell_type": "code",
      "source": [
        "model = ViT( image_size = (32,32), patch_size = (4,4), num_classes = 10, dim = 128, depth = 6, heads = 8, mlp_dim = 256 )\n",
        "from torchsummary import summary\n",
        "use_cuda = torch.cuda.is_available()\n",
        "device = torch.device(\"cuda\" if use_cuda else \"cpu\")\n",
        "print(device)\n",
        "model = model.to(device)\n",
        "summary(model, input_size=(3, 32, 32))"
      ],
      "metadata": {
        "colab": {
          "base_uri": "https://localhost:8080/"
        },
        "id": "IMKuWVSR-zKJ",
        "outputId": "6c43fe95-afb4-41c1-c96c-89752fbea803"
      },
      "execution_count": null,
      "outputs": [
        {
          "output_type": "stream",
          "name": "stderr",
          "text": [
            "/usr/local/lib/python3.9/dist-packages/einops/parsing.py:136: RuntimeWarning: It is discouraged to use axes names that are keywords: class\n",
            "  warnings.warn(\"It is discouraged to use axes names that are keywords: {}\".format(name), RuntimeWarning)\n"
          ]
        },
        {
          "output_type": "stream",
          "name": "stdout",
          "text": [
            "cuda\n",
            "----------------------------------------------------------------\n",
            "        Layer (type)               Output Shape         Param #\n",
            "================================================================\n",
            "            Conv2d-1            [-1, 128, 8, 8]           6,272\n",
            "         Rearrange-2              [-1, 64, 128]               0\n",
            "           Dropout-3              [-1, 65, 128]               0\n",
            "         LayerNorm-4              [-1, 65, 128]             256\n",
            "         Rearrange-5                [-1, 2, 65]               0\n",
            "            Conv2d-6                [-1, 2, 65]         198,144\n",
            "         Rearrange-7             [-1, 65, 1536]               0\n",
            "           Softmax-8            [-1, 8, 65, 65]               0\n",
            "         Rearrange-9                [-1, 2, 65]               0\n",
            "           Conv2d-10                [-1, 2, 65]          65,664\n",
            "        Rearrange-11              [-1, 65, 128]               0\n",
            "          Dropout-12              [-1, 65, 128]               0\n",
            "        Attention-13              [-1, 65, 128]               0\n",
            "          PreNorm-14              [-1, 65, 128]               0\n",
            "        LayerNorm-15              [-1, 65, 128]             256\n",
            "           Conv2d-16                [-1, 65, 2]          33,024\n",
            "             GELU-17                [-1, 65, 2]               0\n",
            "          Dropout-18                [-1, 65, 2]               0\n",
            "           Conv2d-19                [-1, 65, 2]          32,896\n",
            "          Dropout-20                [-1, 65, 2]               0\n",
            "      FeedForward-21              [-1, 65, 128]               0\n",
            "          PreNorm-22              [-1, 65, 128]               0\n",
            "        LayerNorm-23              [-1, 65, 128]             256\n",
            "        Rearrange-24                [-1, 2, 65]               0\n",
            "           Conv2d-25                [-1, 2, 65]         198,144\n",
            "        Rearrange-26             [-1, 65, 1536]               0\n",
            "          Softmax-27            [-1, 8, 65, 65]               0\n",
            "        Rearrange-28                [-1, 2, 65]               0\n",
            "           Conv2d-29                [-1, 2, 65]          65,664\n",
            "        Rearrange-30              [-1, 65, 128]               0\n",
            "          Dropout-31              [-1, 65, 128]               0\n",
            "        Attention-32              [-1, 65, 128]               0\n",
            "          PreNorm-33              [-1, 65, 128]               0\n",
            "        LayerNorm-34              [-1, 65, 128]             256\n",
            "           Conv2d-35                [-1, 65, 2]          33,024\n",
            "             GELU-36                [-1, 65, 2]               0\n",
            "          Dropout-37                [-1, 65, 2]               0\n",
            "           Conv2d-38                [-1, 65, 2]          32,896\n",
            "          Dropout-39                [-1, 65, 2]               0\n",
            "      FeedForward-40              [-1, 65, 128]               0\n",
            "          PreNorm-41              [-1, 65, 128]               0\n",
            "        LayerNorm-42              [-1, 65, 128]             256\n",
            "        Rearrange-43                [-1, 2, 65]               0\n",
            "           Conv2d-44                [-1, 2, 65]         198,144\n",
            "        Rearrange-45             [-1, 65, 1536]               0\n",
            "          Softmax-46            [-1, 8, 65, 65]               0\n",
            "        Rearrange-47                [-1, 2, 65]               0\n",
            "           Conv2d-48                [-1, 2, 65]          65,664\n",
            "        Rearrange-49              [-1, 65, 128]               0\n",
            "          Dropout-50              [-1, 65, 128]               0\n",
            "        Attention-51              [-1, 65, 128]               0\n",
            "          PreNorm-52              [-1, 65, 128]               0\n",
            "        LayerNorm-53              [-1, 65, 128]             256\n",
            "           Conv2d-54                [-1, 65, 2]          33,024\n",
            "             GELU-55                [-1, 65, 2]               0\n",
            "          Dropout-56                [-1, 65, 2]               0\n",
            "           Conv2d-57                [-1, 65, 2]          32,896\n",
            "          Dropout-58                [-1, 65, 2]               0\n",
            "      FeedForward-59              [-1, 65, 128]               0\n",
            "          PreNorm-60              [-1, 65, 128]               0\n",
            "        LayerNorm-61              [-1, 65, 128]             256\n",
            "        Rearrange-62                [-1, 2, 65]               0\n",
            "           Conv2d-63                [-1, 2, 65]         198,144\n",
            "        Rearrange-64             [-1, 65, 1536]               0\n",
            "          Softmax-65            [-1, 8, 65, 65]               0\n",
            "        Rearrange-66                [-1, 2, 65]               0\n",
            "           Conv2d-67                [-1, 2, 65]          65,664\n",
            "        Rearrange-68              [-1, 65, 128]               0\n",
            "          Dropout-69              [-1, 65, 128]               0\n",
            "        Attention-70              [-1, 65, 128]               0\n",
            "          PreNorm-71              [-1, 65, 128]               0\n",
            "        LayerNorm-72              [-1, 65, 128]             256\n",
            "           Conv2d-73                [-1, 65, 2]          33,024\n",
            "             GELU-74                [-1, 65, 2]               0\n",
            "          Dropout-75                [-1, 65, 2]               0\n",
            "           Conv2d-76                [-1, 65, 2]          32,896\n",
            "          Dropout-77                [-1, 65, 2]               0\n",
            "      FeedForward-78              [-1, 65, 128]               0\n",
            "          PreNorm-79              [-1, 65, 128]               0\n",
            "        LayerNorm-80              [-1, 65, 128]             256\n",
            "        Rearrange-81                [-1, 2, 65]               0\n",
            "           Conv2d-82                [-1, 2, 65]         198,144\n",
            "        Rearrange-83             [-1, 65, 1536]               0\n",
            "          Softmax-84            [-1, 8, 65, 65]               0\n",
            "        Rearrange-85                [-1, 2, 65]               0\n",
            "           Conv2d-86                [-1, 2, 65]          65,664\n",
            "        Rearrange-87              [-1, 65, 128]               0\n",
            "          Dropout-88              [-1, 65, 128]               0\n",
            "        Attention-89              [-1, 65, 128]               0\n",
            "          PreNorm-90              [-1, 65, 128]               0\n",
            "        LayerNorm-91              [-1, 65, 128]             256\n",
            "           Conv2d-92                [-1, 65, 2]          33,024\n",
            "             GELU-93                [-1, 65, 2]               0\n",
            "          Dropout-94                [-1, 65, 2]               0\n",
            "           Conv2d-95                [-1, 65, 2]          32,896\n",
            "          Dropout-96                [-1, 65, 2]               0\n",
            "      FeedForward-97              [-1, 65, 128]               0\n",
            "          PreNorm-98              [-1, 65, 128]               0\n",
            "        LayerNorm-99              [-1, 65, 128]             256\n",
            "       Rearrange-100                [-1, 2, 65]               0\n",
            "          Conv2d-101                [-1, 2, 65]         198,144\n",
            "       Rearrange-102             [-1, 65, 1536]               0\n",
            "         Softmax-103            [-1, 8, 65, 65]               0\n",
            "       Rearrange-104                [-1, 2, 65]               0\n",
            "          Conv2d-105                [-1, 2, 65]          65,664\n",
            "       Rearrange-106              [-1, 65, 128]               0\n",
            "         Dropout-107              [-1, 65, 128]               0\n",
            "       Attention-108              [-1, 65, 128]               0\n",
            "         PreNorm-109              [-1, 65, 128]               0\n",
            "       LayerNorm-110              [-1, 65, 128]             256\n",
            "          Conv2d-111                [-1, 65, 2]          33,024\n",
            "            GELU-112                [-1, 65, 2]               0\n",
            "         Dropout-113                [-1, 65, 2]               0\n",
            "          Conv2d-114                [-1, 65, 2]          32,896\n",
            "         Dropout-115                [-1, 65, 2]               0\n",
            "     FeedForward-116              [-1, 65, 128]               0\n",
            "         PreNorm-117              [-1, 65, 128]               0\n",
            "     Transformer-118              [-1, 65, 128]               0\n",
            "        Identity-119                  [-1, 128]               0\n",
            "       LayerNorm-120                  [-1, 128]             256\n",
            "       Rearrange-121                 [-1, 2, 1]               0\n",
            "          Conv2d-122                 [-1, 2, 1]           1,290\n",
            "       Rearrange-123                   [-1, 10]               0\n",
            "================================================================\n",
            "Total params: 1,989,258\n",
            "Trainable params: 1,989,258\n",
            "Non-trainable params: 0\n",
            "----------------------------------------------------------------\n",
            "Input size (MB): 0.01\n",
            "Forward/backward pass size (MB): 9.47\n",
            "Params size (MB): 7.59\n",
            "Estimated Total Size (MB): 17.07\n",
            "----------------------------------------------------------------\n"
          ]
        }
      ]
    },
    {
      "cell_type": "code",
      "source": [
        "IMAGE_SIZE = 32\n",
        "\n",
        "NUM_CLASSES = 10\n",
        "NUM_WORKERS = 8\n",
        "BATCH_SIZE = 128\n",
        "EPOCHS = 25\n",
        "\n",
        "LEARNING_RATE = 1e-3\n",
        "WEIGHT_DECAY = 1e-1\n",
        "\n",
        "cifar10_mean = (0.4914, 0.4822, 0.4465)\n",
        "cifar10_std = (0.2471, 0.2435, 0.2616)\n",
        "\n",
        "train_transform = transforms.Compose([\n",
        "    transforms.RandomResizedCrop(32, scale=(0.75, 1.0), ratio=(1.0, 1.0)),\n",
        "    transforms.RandomHorizontalFlip(p=0.5),\n",
        "    transforms.RandAugment(num_ops=1, magnitude=8),\n",
        "    transforms.ColorJitter(0.1, 0.1, 0.1),\n",
        "    transforms.ToTensor(),\n",
        "    transforms.Normalize(cifar10_mean, cifar10_std),\n",
        "    transforms.RandomErasing(p=0.25)\n",
        "])\n",
        "\n",
        "test_transform = transforms.Compose([\n",
        "    transforms.ToTensor(),\n",
        "    transforms.Normalize(cifar10_mean, cifar10_std)\n",
        "])\n",
        "\n",
        "trainset = torchvision.datasets.CIFAR10(root='./data', train=True,\n",
        "                                        download=True, transform=train_transform)\n",
        "trainloader = torch.utils.data.DataLoader(trainset, batch_size=BATCH_SIZE,\n",
        "                                          shuffle=True, num_workers=4)\n",
        "\n",
        "testset = torchvision.datasets.CIFAR10(root='./data', train=False,\n",
        "                                       download=True, transform=test_transform)\n",
        "testloader = torch.utils.data.DataLoader(testset, batch_size=64,\n",
        "                                         shuffle=False, num_workers=4)\n"
      ],
      "metadata": {
        "colab": {
          "base_uri": "https://localhost:8080/"
        },
        "id": "czf4PktK2plb",
        "outputId": "f52ae212-dc0f-4e15-e902-df7818dc67a6"
      },
      "execution_count": null,
      "outputs": [
        {
          "output_type": "stream",
          "name": "stdout",
          "text": [
            "Files already downloaded and verified\n"
          ]
        },
        {
          "output_type": "stream",
          "name": "stderr",
          "text": [
            "/usr/local/lib/python3.9/dist-packages/torch/utils/data/dataloader.py:554: UserWarning: This DataLoader will create 4 worker processes in total. Our suggested max number of worker in current system is 2, which is smaller than what this DataLoader is going to create. Please be aware that excessive worker creation might get DataLoader running slow or even freeze, lower the worker number to avoid potential slowness/freeze if necessary.\n",
            "  warnings.warn(_create_warning_msg(\n"
          ]
        },
        {
          "output_type": "stream",
          "name": "stdout",
          "text": [
            "Files already downloaded and verified\n"
          ]
        }
      ]
    },
    {
      "cell_type": "code",
      "source": [
        "classes = ('plane', 'car', 'bird', 'cat','deer', 'dog', 'frog', 'horse', 'ship', 'truck')\n",
        "image_batch, label_batch = next(iter(trainloader))\n",
        "\n",
        "# Get a single image from the batch\n",
        "image, label = image_batch[0], label_batch[0]\n",
        "\n",
        "# View the batch shapes\n",
        "image.shape, label"
      ],
      "metadata": {
        "colab": {
          "base_uri": "https://localhost:8080/"
        },
        "id": "fuCay3cTA22k",
        "outputId": "7a268da0-0c08-4484-9621-e88e8577f79a"
      },
      "execution_count": null,
      "outputs": [
        {
          "output_type": "execute_result",
          "data": {
            "text/plain": [
              "(torch.Size([3, 32, 32]), tensor(9))"
            ]
          },
          "metadata": {},
          "execution_count": 4
        }
      ]
    },
    {
      "cell_type": "code",
      "source": [
        "plt.imshow(image.permute(1, 2, 0)) # rearrange image dimensions to suit matplotlib [color_channels, height, width] -> [height, width, color_channels]\n",
        "plt.title(classes[label])\n",
        "plt.axis(False)"
      ],
      "metadata": {
        "colab": {
          "base_uri": "https://localhost:8080/",
          "height": 300
        },
        "id": "K3F4Pl3LBFnc",
        "outputId": "58e8091d-cfd9-42fd-8b94-c39dc29e3893"
      },
      "execution_count": null,
      "outputs": [
        {
          "output_type": "stream",
          "name": "stderr",
          "text": [
            "WARNING:matplotlib.image:Clipping input data to the valid range for imshow with RGB data ([0..1] for floats or [0..255] for integers).\n"
          ]
        },
        {
          "output_type": "execute_result",
          "data": {
            "text/plain": [
              "(-0.5, 31.5, 31.5, -0.5)"
            ]
          },
          "metadata": {},
          "execution_count": 5
        },
        {
          "output_type": "display_data",
          "data": {
            "text/plain": [
              "<Figure size 432x288 with 1 Axes>"
            ],
            "image/png": "[encoded data removed]"
          },
          "metadata": {
            "needs_background": "light"
          }
        }
      ]
    },
    {
      "cell_type": "code",
      "source": [
        "!git clone https://github.com/shreyash-99/EVA8.git\n",
        "%cd EVA8/EVA8-all_models-new\n",
        "from utils import *\n",
        "from main import *"
      ],
      "metadata": {
        "colab": {
          "base_uri": "https://localhost:8080/"
        },
        "id": "aXtqg-eD3pnQ",
        "outputId": "22def051-58d8-4f0f-8480-74cf80bed399"
      },
      "execution_count": null,
      "outputs": [
        {
          "output_type": "stream",
          "name": "stdout",
          "text": [
            "Cloning into 'EVA8'...\n",
            "remote: Enumerating objects: 1139, done.\u001b[K\n",
            "remote: Counting objects: 100% (526/526), done.\u001b[K\n",
            "remote: Compressing objects: 100% (475/475), done.\u001b[K\n",
            "remote: Total 1139 (delta 97), reused 471 (delta 48), pack-reused 613\u001b[K\n",
            "Receiving objects: 100% (1139/1139), 30.63 MiB | 22.69 MiB/s, done.\n",
            "Resolving deltas: 100% (461/461), done.\n",
            "/content/EVA8/EVA8-all_models-new\n"
          ]
        }
      ]
    },
    {
      "cell_type": "code",
      "source": [
        "import shutil"
      ],
      "metadata": {
        "id": "CHpnAjkm1-ws"
      },
      "execution_count": null,
      "outputs": []
    },
    {
      "cell_type": "code",
      "source": [
        "\n",
        "# %cd ..\n",
        "# %cd ..\n",
        "shutil.rmtree('EVA8')"
      ],
      "metadata": {
        "id": "CfJEHQzZ14ic"
      },
      "execution_count": null,
      "outputs": []
    },
    {
      "cell_type": "code",
      "source": [
        "import time\n",
        "\n",
        "clip_norm = True\n",
        "lr_schedule = lambda t: np.interp([t], [0, EPOCHS*2//5, EPOCHS*4//5, EPOCHS], \n",
        "                                  [0, 0.01, 0.01/20.0, 0])[0]\n",
        "\n",
        "model = nn.DataParallel(model, device_ids=[0]).cuda()\n",
        "opt = optim.AdamW(model.parameters(), lr=0.01, weight_decay=0.01)\n",
        "criterion = nn.CrossEntropyLoss()\n",
        "scaler = torch.cuda.amp.GradScaler()\n",
        "\n",
        "for epoch in range(EPOCHS):\n",
        "    start = time.time()\n",
        "    train_loss, train_acc, n = 0, 0, 0\n",
        "    for i, (X, y) in enumerate(trainloader):\n",
        "        model.train()\n",
        "        X, y = X.cuda(), y.cuda()\n",
        "\n",
        "        lr = lr_schedule(epoch + (i + 1)/len(trainloader))\n",
        "        opt.param_groups[0].update(lr=lr)\n",
        "\n",
        "        opt.zero_grad()\n",
        "        with torch.cuda.amp.autocast():\n",
        "            output = model(X)\n",
        "            loss = criterion(output, y)\n",
        "\n",
        "        scaler.scale(loss).backward()\n",
        "        if clip_norm:\n",
        "            scaler.unscale_(opt)\n",
        "            nn.utils.clip_grad_norm_(model.parameters(), 1.0)\n",
        "        scaler.step(opt)\n",
        "        scaler.update()\n",
        "        \n",
        "        train_loss += loss.item() * y.size(0)\n",
        "        train_acc += (output.max(1)[1] == y).sum().item()\n",
        "        n += y.size(0)\n",
        "        \n",
        "    model.eval()\n",
        "    test_acc, m = 0, 0\n",
        "    with torch.no_grad():\n",
        "        for i, (X, y) in enumerate(testloader):\n",
        "            X, y = X.cuda(), y.cuda()\n",
        "            with torch.cuda.amp.autocast():\n",
        "                output = model(X)\n",
        "            test_acc += (output.max(1)[1] == y).sum().item()\n",
        "            m += y.size(0)\n",
        "\n",
        "    print(f'Epoch: {epoch} | Train Acc: {train_acc/n:.4f}, Test Acc: {test_acc/m:.4f}, Time: {time.time() - start:.1f}, lr: {lr:.6f}')"
      ],
      "metadata": {
        "colab": {
          "base_uri": "https://localhost:8080/"
        },
        "id": "ogKIbSGA4z2I",
        "outputId": "9dcc5725-77d1-4f38-d927-d78e1d833c10"
      },
      "execution_count": null,
      "outputs": [
        {
          "output_type": "stream",
          "name": "stderr",
          "text": [
            "/usr/local/lib/python3.9/dist-packages/torch/utils/data/dataloader.py:554: UserWarning: This DataLoader will create 4 worker processes in total. Our suggested max number of worker in current system is 2, which is smaller than what this DataLoader is going to create. Please be aware that excessive worker creation might get DataLoader running slow or even freeze, lower the worker number to avoid potential slowness/freeze if necessary.\n",
            "  warnings.warn(_create_warning_msg(\n"
          ]
        },
        {
          "output_type": "stream",
          "name": "stdout",
          "text": [
            "Epoch: 0 | Train Acc: 0.3131, Test Acc: 0.4442, Time: 85.4, lr: 0.001000\n",
            "Epoch: 1 | Train Acc: 0.4237, Test Acc: 0.4842, Time: 75.6, lr: 0.002000\n",
            "Epoch: 2 | Train Acc: 0.4218, Test Acc: 0.4522, Time: 75.2, lr: 0.003000\n",
            "Epoch: 3 | Train Acc: 0.4224, Test Acc: 0.4794, Time: 74.3, lr: 0.004000\n",
            "Epoch: 4 | Train Acc: 0.4512, Test Acc: 0.5054, Time: 75.7, lr: 0.005000\n",
            "Epoch: 5 | Train Acc: 0.4801, Test Acc: 0.4967, Time: 75.7, lr: 0.006000\n",
            "Epoch: 6 | Train Acc: 0.5001, Test Acc: 0.5551, Time: 74.2, lr: 0.007000\n",
            "Epoch: 7 | Train Acc: 0.5148, Test Acc: 0.5351, Time: 75.4, lr: 0.008000\n",
            "Epoch: 8 | Train Acc: 0.5171, Test Acc: 0.5613, Time: 75.3, lr: 0.009000\n",
            "Epoch: 9 | Train Acc: 0.5247, Test Acc: 0.5550, Time: 74.4, lr: 0.010000\n",
            "Epoch: 10 | Train Acc: 0.5450, Test Acc: 0.5748, Time: 74.9, lr: 0.009050\n",
            "Epoch: 11 | Train Acc: 0.5595, Test Acc: 0.6152, Time: 75.2, lr: 0.008100\n",
            "Epoch: 12 | Train Acc: 0.5733, Test Acc: 0.6108, Time: 76.7, lr: 0.007150\n",
            "Epoch: 13 | Train Acc: 0.5879, Test Acc: 0.6298, Time: 76.2, lr: 0.006200\n",
            "Epoch: 14 | Train Acc: 0.6070, Test Acc: 0.6485, Time: 76.1, lr: 0.005250\n",
            "Epoch: 15 | Train Acc: 0.6234, Test Acc: 0.6605, Time: 75.4, lr: 0.004300\n",
            "Epoch: 16 | Train Acc: 0.6380, Test Acc: 0.6785, Time: 76.3, lr: 0.003350\n",
            "Epoch: 17 | Train Acc: 0.6535, Test Acc: 0.6885, Time: 76.7, lr: 0.002400\n",
            "Epoch: 18 | Train Acc: 0.6737, Test Acc: 0.7141, Time: 74.3, lr: 0.001450\n",
            "Epoch: 19 | Train Acc: 0.6947, Test Acc: 0.7272, Time: 75.0, lr: 0.000500\n",
            "Epoch: 20 | Train Acc: 0.7075, Test Acc: 0.7324, Time: 73.9, lr: 0.000400\n",
            "Epoch: 21 | Train Acc: 0.7154, Test Acc: 0.7342, Time: 75.1, lr: 0.000300\n",
            "Epoch: 22 | Train Acc: 0.7173, Test Acc: 0.7374, Time: 74.0, lr: 0.000200\n",
            "Epoch: 23 | Train Acc: 0.7193, Test Acc: 0.7389, Time: 74.6, lr: 0.000100\n",
            "Epoch: 24 | Train Acc: 0.7251, Test Acc: 0.7397, Time: 74.8, lr: 0.000000\n"
          ]
        }
      ]
    },
    {
      "cell_type": "code",
      "source": [
        "plotGradCAM(model, testloader, classes, device)"
      ],
      "metadata": {
        "id": "8J8FL0M76A2h"
      },
      "execution_count": null,
      "outputs": []
    },
    {
      "cell_type": "code",
      "source": [],
      "metadata": {
        "id": "dFqA0uLC0urG"
      },
      "execution_count": null,
      "outputs": []
    }
  ]
}